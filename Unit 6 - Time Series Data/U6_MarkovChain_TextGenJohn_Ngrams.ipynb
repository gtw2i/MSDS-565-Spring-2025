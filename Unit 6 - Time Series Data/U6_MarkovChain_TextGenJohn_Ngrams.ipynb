{
 "cells": [
  {
   "cell_type": "code",
   "execution_count": 1,
   "id": "935bb80e-2e4c-410f-aff8-434b90f87eba",
   "metadata": {},
   "outputs": [],
   "source": [
    "import numpy as np\n",
    "import pandas as pd\n",
    "import matplotlib.pyplot as plt\n",
    "import seaborn as sns\n",
    "import re\n",
    "\n",
    "pd.set_option('display.max_columns',100)\n",
    "pd.set_option('display.max_rows',100)\n",
    "pd.set_option(\"display.precision\", 2)\n",
    "\n",
    "plt.style.use('dark_background')"
   ]
  },
  {
   "cell_type": "markdown",
   "id": "9c575926-7965-4e58-9db3-23605ef5c89b",
   "metadata": {},
   "source": [
    "# Read file"
   ]
  },
  {
   "cell_type": "code",
   "execution_count": 2,
   "id": "4f8961f5-8855-4b2c-969e-8f0e1e0ed869",
   "metadata": {},
   "outputs": [
    {
     "name": "stdout",
     "output_type": "stream",
     "text": [
      "[1] In the beginning was the Word, and the Word was with God, and the Word was God.\n",
      "[2] The same was in the beginning with God.\n",
      "[3] All things were made by him; and without him was not any thing made that was made.\n",
      "[4] In him was life; and the life was the light of men.\n",
      "[5] And the light shineth in darkness; and the darkness comprehended it not.\n",
      "[6] There was a man sent from God, whose name was John.\n",
      "[7] The same came for a witness, to bear witness of the Light, that all men through him might believe.\n",
      "[8] He was not that Light, but was sent to bear witness of that Light.\n",
      "[9] That was the true Light, which lighteth every man that cometh into the world.\n",
      "[10] He was in the world, and the world was made by him, and the world knew him not.\n",
      "[11] He came unto his own, and his own received him not.\n",
      "[12] But as many as received him, to them gave he power to become the sons of God, even to them that believe on his name:\n",
      "[13] Which were born, not of blood, nor of the will of the flesh, nor of the\n"
     ]
    }
   ],
   "source": [
    "with open('John.txt','r', encoding='utf-8') as f:\n",
    "    text = f.read()\n",
    "# end\n",
    "\n",
    "print(text[:1000])"
   ]
  },
  {
   "cell_type": "markdown",
   "id": "172b708c-1477-417d-ad8f-037b0881ef78",
   "metadata": {},
   "source": [
    "# Clean text"
   ]
  },
  {
   "cell_type": "code",
   "execution_count": 3,
   "id": "39190fe2-e2b3-4a6a-9bb6-c8b17cb3e98f",
   "metadata": {},
   "outputs": [
    {
     "name": "stdout",
     "output_type": "stream",
     "text": [
      "in the beginning was the word , and the word was with god , and the word was god . the same was in the beginning with god . all things were made by him ; and without him was not any thing made that was made . in him was life ; and the life was the light of men . and the light shineth in darkness ; and the darkness comprehended it not . there was a man sent from god , whose name was john . the same came for a witness , to bear witness of the light , that all men through him might believe . he was not that light , but was sent to bear witness of that light . that was the true light , which lighteth every man that cometh into the world . he was in the world , and the world was made by him , and the world knew him not . he came unto his own , and his own received him not . but as many as received him , to them gave he power to become the sons of god , even to them that believe on his name which were born , not of blood , nor of the will of the flesh , nor of the will of man , but of god . \n"
     ]
    }
   ],
   "source": [
    "text = text.lower()\n",
    "text = re.sub('\\[\\d+\\]','',text)\n",
    "text = re.sub('\\s+',' ',text)\n",
    "text = re.sub('[:\\(\\)\\!\\?]','',text)\n",
    "text = re.sub('\\. ',' . ',text)\n",
    "text = re.sub(', ',' , ',text)\n",
    "text = re.sub('; ',' ; ',text)\n",
    "text = re.sub('john\\d+','',text)\n",
    "text = text.strip()\n",
    "\n",
    "print(text[:1000])"
   ]
  },
  {
   "cell_type": "markdown",
   "id": "9bab1394-6400-415f-9b2f-20111a77de31",
   "metadata": {},
   "source": [
    "# Encode text"
   ]
  },
  {
   "cell_type": "code",
   "execution_count": 21,
   "id": "b0c41460-51f2-4230-849a-c95043efcc44",
   "metadata": {},
   "outputs": [
    {
     "data": {
      "text/plain": [
       "array([', a bone of', ', a feast of', ', a little while', ', a man can',\n",
       "       ', a man that', ', a multitude being', ', a ruler of',\n",
       "       ', a stone .', ', about an hundred', ', about fifteen furlongs',\n",
       "       ', abraham is our', ', after me cometh', ', after that he',\n",
       "       ', after that the', ', after the manner', ', all men will',\n",
       "       ', am i a', ', an angel spake', ', and a stone', ', and abide in'],\n",
       "      dtype='<U33')"
      ]
     },
     "execution_count": 21,
     "metadata": {},
     "output_type": "execute_result"
    }
   ],
   "source": [
    "gram_len = 4\n",
    "\n",
    "words = np.array(text.split(' '))\n",
    "\n",
    "grams = []\n",
    "for i in range(len(words)-gram_len+1):\n",
    "    grams.append(\" \".join(words[i:i+gram_len]))  \n",
    "# end\n",
    "grams = np.array(grams)\n",
    "vocab = np.unique(grams)\n",
    "vocab[:20]"
   ]
  },
  {
   "cell_type": "code",
   "execution_count": 22,
   "id": "e7f52f1f-f8c9-4ac4-9644-74b36d29b810",
   "metadata": {},
   "outputs": [
    {
     "data": {
      "text/plain": [
       "grams              grams_enc\n",
       "saith unto him ,   12996        42\n",
       "said unto him ,    12955        41\n",
       "said unto them ,   12963        28\n",
       ", i say unto       800          26\n",
       "saith unto them ,  13004        25\n",
       "                                ..\n",
       "god , and the      6700          1\n",
       "god , and went     6701          1\n",
       "god , and who      6702          1\n",
       "god , and your     6703          1\n",
       "zebedee , and two  19259         1\n",
       "Name: count, Length: 19260, dtype: int64"
      ]
     },
     "execution_count": 22,
     "metadata": {},
     "output_type": "execute_result"
    }
   ],
   "source": [
    "n_grams = grams.shape[0]\n",
    "n_vocab = vocab.shape[0]\n",
    "\n",
    "from sklearn.preprocessing import LabelEncoder\n",
    "LE = LabelEncoder()\n",
    "vocab_enc = LE.fit_transform(vocab).astype(int)\n",
    "grams_enc = LE.transform(grams).astype(int)\n",
    "\n",
    "df = pd.DataFrame({'grams':grams,'grams_enc':grams_enc})\n",
    "df.value_counts()"
   ]
  },
  {
   "cell_type": "markdown",
   "id": "a6c1f79f-b694-4ba0-9e8b-5e20fb6dde76",
   "metadata": {},
   "source": [
    "# Get transition probabilities (kernel)"
   ]
  },
  {
   "cell_type": "code",
   "execution_count": 23,
   "id": "fcc731be-fd61-4eb6-885e-8dbdc0fad33b",
   "metadata": {},
   "outputs": [],
   "source": [
    "P = np.zeros((n_vocab,n_vocab))\n",
    "\n",
    "for i in range(n_grams-1):\n",
    "    jj = grams_enc[i]\n",
    "    kk = grams_enc[i+1]\n",
    "    P[jj,kk] += 1\n",
    "# end"
   ]
  },
  {
   "cell_type": "markdown",
   "id": "5017570c-8248-4fdf-afcb-8c947224d833",
   "metadata": {},
   "source": [
    "# Normalize kernel rows so they sum to 1"
   ]
  },
  {
   "cell_type": "code",
   "execution_count": 24,
   "id": "b1de7ff2-9ea9-4b8a-824c-94ff112c4a17",
   "metadata": {},
   "outputs": [],
   "source": [
    "for i in range(n_vocab):\n",
    "    #P[i,:] = P[i,:] ** 2\n",
    "    tot = P[i,:].sum()\n",
    "    if tot > 0:\n",
    "        P[i,:] = P[i,:] / tot\n",
    "    # end\n",
    "# end"
   ]
  },
  {
   "cell_type": "markdown",
   "id": "78374f56-7f77-4dfc-8e63-4b616bd0097e",
   "metadata": {},
   "source": [
    "# Generate new text"
   ]
  },
  {
   "cell_type": "code",
   "execution_count": 27,
   "id": "f172c4ae-3ee6-43f9-86bf-a457e8dc52e4",
   "metadata": {},
   "outputs": [
    {
     "name": "stdout",
     "output_type": "stream",
     "text": [
      "in the beginning was the word , and the word was made flesh , and dwelt among us , and we beheld his glory , the glory as of the only begotten son , which is in the bosom of the father , he hath declared him . and this is life eternal , that they might take him . john.12 then jesus six days before the passover came to bethany , where lazarus was which had been dead , whom he raised from the dead . then the disciples looked one on another , doubting of whom he spake . he then lying\n"
     ]
    }
   ],
   "source": [
    "nStep = 100\n",
    "\n",
    "start = 'in the beginning was'\n",
    "start_enc = LE.transform([start])[0]\n",
    "\n",
    "chain_enc = [start_enc]\n",
    "for i in range(nStep):\n",
    "    curr = chain_enc[i]\n",
    "    new = np.random.choice( vocab_enc, p=P[curr,:], size=1 )[0]\n",
    "    chain_enc.append(new)\n",
    "# end\n",
    "chain_enc = np.array(chain_enc)\n",
    "chain = LE.inverse_transform(chain_enc)\n",
    "\n",
    "text_gen = ''\n",
    "for c in chain:\n",
    "    text_gen += c.split(\" \")[0] + \" \"\n",
    "# end\n",
    "text_gen += \" \".join(chain[-1].split(\" \")[1:])\n",
    "print(text_gen)"
   ]
  },
  {
   "cell_type": "code",
   "execution_count": null,
   "id": "4c14eba0-9423-4188-9dfd-babdf3b23f10",
   "metadata": {},
   "outputs": [],
   "source": []
  }
 ],
 "metadata": {
  "kernelspec": {
   "display_name": "CSCI 4900",
   "language": "python",
   "name": "csci4900"
  },
  "language_info": {
   "codemirror_mode": {
    "name": "ipython",
    "version": 3
   },
   "file_extension": ".py",
   "mimetype": "text/x-python",
   "name": "python",
   "nbconvert_exporter": "python",
   "pygments_lexer": "ipython3",
   "version": "3.8.18"
  }
 },
 "nbformat": 4,
 "nbformat_minor": 5
}
