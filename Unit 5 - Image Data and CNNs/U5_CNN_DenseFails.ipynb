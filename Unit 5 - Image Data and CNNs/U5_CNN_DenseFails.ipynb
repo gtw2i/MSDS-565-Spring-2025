{
 "cells": [
  {
   "cell_type": "code",
   "execution_count": 1,
   "id": "c9bcae59-8cc4-47c4-974d-23a86ec41583",
   "metadata": {},
   "outputs": [],
   "source": [
    "import numpy as np\n",
    "import pandas as pd\n",
    "import matplotlib.pyplot as plt\n",
    "import seaborn as sns\n",
    "from tqdm import tqdm\n",
    "import warnings\n",
    "warnings.filterwarnings(\"ignore\")\n",
    "\n",
    "pd.set_option('display.max_columns',100)\n",
    "pd.set_option('display.max_rows',100)\n",
    "\n",
    "plt.style.use('dark_background')"
   ]
  },
  {
   "cell_type": "markdown",
   "id": "dab099ed-ecb6-451b-aca9-cd51381b81f0",
   "metadata": {},
   "source": [
    "# sklearn digits dataset\n",
    "\n",
    "Images are 8x8 pixels."
   ]
  },
  {
   "cell_type": "markdown",
   "id": "c9b02fef-653e-4769-9544-97518940a6a9",
   "metadata": {},
   "source": [
    "## Load data"
   ]
  },
  {
   "cell_type": "code",
   "execution_count": null,
   "id": "dd485abe-787b-4608-9454-178f3fafdc40",
   "metadata": {},
   "outputs": [],
   "source": [
    "from sklearn.datasets import load_digits\n",
    "\n",
    "# Load the digits dataset\n",
    "digits = load_digits()\n",
    "print( dir(digits) )"
   ]
  },
  {
   "cell_type": "code",
   "execution_count": null,
   "id": "0d6ead31-3b59-4eeb-a7f4-ab8b5bedc4b3",
   "metadata": {},
   "outputs": [
    {
     "name": "stdout",
     "output_type": "stream",
     "text": [
      "['DESCR', 'data', 'feature_names', 'frame', 'images', 'target', 'target_names']\n"
     ]
    },
    {
     "data": {
      "image/png": "[encoded data removed]",
      "text/plain": [
       "<Figure size 288x288 with 1 Axes>"
      ]
     },
     "metadata": {},
     "output_type": "display_data"
    }
   ],
   "source": [
    "# Pick a random index\n",
    "idx = np.random.randint(0, len(digits.images))\n",
    "\n",
    "# Display the image\n",
    "plt.figure(figsize=(4, 4))\n",
    "plt.imshow(digits.images[idx], cmap='gray')\n",
    "plt.title(f\"Label: {digits.target[idx]}\")\n",
    "plt.axis('off')\n",
    "plt.show()"
   ]
  },
  {
   "cell_type": "markdown",
   "id": "0cd91284-616f-47f7-a240-41b4ac67ddcf",
   "metadata": {},
   "source": [
    "## Create/train/analyze model"
   ]
  },
  {
   "cell_type": "code",
   "execution_count": 3,
   "id": "712e9d3b-b9e5-458a-ae39-814db4519a85",
   "metadata": {},
   "outputs": [
    {
     "name": "stdout",
     "output_type": "stream",
     "text": [
      "(1797, 64)\n"
     ]
    }
   ],
   "source": [
    "X = digits.data\n",
    "y = digits.target\n",
    "\n",
    "print(X.shape)"
   ]
  },
  {
   "cell_type": "code",
   "execution_count": 4,
   "id": "39e7f360-b55e-4b72-8c51-f6a8b2c73d81",
   "metadata": {},
   "outputs": [],
   "source": [
    "from sklearn.model_selection import train_test_split\n",
    "\n",
    "X_train, X_test, y_train, y_test = train_test_split(\n",
    "    X, y,\n",
    "    test_size=0.2,\n",
    "    stratify=y\n",
    ")"
   ]
  },
  {
   "cell_type": "code",
   "execution_count": 5,
   "id": "9fd1eb4b-9232-4e4d-8740-5ecaf1367ebe",
   "metadata": {},
   "outputs": [
    {
     "name": "stdout",
     "output_type": "stream",
     "text": [
      "Model: \"sequential\"\n",
      "_________________________________________________________________\n",
      " Layer (type)                Output Shape              Param #   \n",
      "=================================================================\n",
      " dense (Dense)               (None, 32)                2080      \n",
      "                                                                 \n",
      " batch_normalization (BatchN  (None, 32)               128       \n",
      " ormalization)                                                   \n",
      "                                                                 \n",
      " dropout (Dropout)           (None, 32)                0         \n",
      "                                                                 \n",
      " dense_1 (Dense)             (None, 16)                528       \n",
      "                                                                 \n",
      " batch_normalization_1 (Batc  (None, 16)               64        \n",
      " hNormalization)                                                 \n",
      "                                                                 \n",
      " dropout_1 (Dropout)         (None, 16)                0         \n",
      "                                                                 \n",
      " dense_2 (Dense)             (None, 8)                 136       \n",
      "                                                                 \n",
      " dense_3 (Dense)             (None, 10)                90        \n",
      "                                                                 \n",
      "=================================================================\n",
      "Total params: 3,026\n",
      "Trainable params: 2,930\n",
      "Non-trainable params: 96\n",
      "_________________________________________________________________\n"
     ]
    }
   ],
   "source": [
    "from tensorflow.keras.models import Sequential\n",
    "from tensorflow.keras.layers import *\n",
    "from tensorflow.keras.optimizers import Adam\n",
    "from tensorflow.keras.callbacks import EarlyStopping\n",
    "\n",
    "dropout_rate = 0.1\n",
    "\n",
    "n_features = X.shape[1]\n",
    "n_classes  = np.unique(y).shape[0]\n",
    "\n",
    "# Create model\n",
    "model = Sequential([\n",
    "    Input(shape=n_features),\n",
    "    \n",
    "    Dense(32, activation='relu'),\n",
    "    BatchNormalization(),\n",
    "    Dropout(dropout_rate),\n",
    "    \n",
    "    Dense(16, activation='relu'),\n",
    "    BatchNormalization(),\n",
    "    Dropout(dropout_rate),\n",
    "    \n",
    "    Dense(8, activation='relu'),\n",
    "    \n",
    "    Dense(n_classes, activation='softmax'),\n",
    "])\n",
    "\n",
    "# Define the optimizer with a custom learning rate\n",
    "optimizer = Adam(learning_rate=0.01)\n",
    "\n",
    "# Compile model\n",
    "model.compile(\n",
    "    optimizer=optimizer,\n",
    "    loss='sparse_categorical_crossentropy',\n",
    "    metrics=['accuracy']\n",
    ")\n",
    "\n",
    "# Early stopping callback\n",
    "early_stopping = EarlyStopping(\n",
    "    monitor='val_loss',  # Monitor validation loss\n",
    "    patience=25,          # Stop after 5 epochs without improvement\n",
    "    restore_best_weights=True  # Restore the best weights after stopping\n",
    ")\n",
    "# Display model summary\n",
    "model.summary()"
   ]
  },
  {
   "cell_type": "code",
   "execution_count": 6,
   "id": "52289ed4-a7ab-47f9-bcb3-15d444e19d38",
   "metadata": {},
   "outputs": [
    {
     "name": "stdout",
     "output_type": "stream",
     "text": [
      "Epoch 1/100\n",
      "23/23 [==============================] - 1s 9ms/step - loss: 1.7387 - accuracy: 0.4057 - val_loss: 1.9344 - val_accuracy: 0.4500\n",
      "Epoch 2/100\n",
      "23/23 [==============================] - 0s 2ms/step - loss: 0.8595 - accuracy: 0.7300 - val_loss: 1.7082 - val_accuracy: 0.6500\n",
      "Epoch 3/100\n",
      "23/23 [==============================] - 0s 2ms/step - loss: 0.4506 - accuracy: 0.8615 - val_loss: 1.2388 - val_accuracy: 0.6917\n",
      "Epoch 4/100\n",
      "23/23 [==============================] - 0s 2ms/step - loss: 0.3060 - accuracy: 0.9081 - val_loss: 0.6789 - val_accuracy: 0.8083\n",
      "Epoch 5/100\n",
      "23/23 [==============================] - 0s 2ms/step - loss: 0.2387 - accuracy: 0.9297 - val_loss: 0.4728 - val_accuracy: 0.8861\n",
      "Epoch 6/100\n",
      "23/23 [==============================] - 0s 2ms/step - loss: 0.2271 - accuracy: 0.9374 - val_loss: 0.3961 - val_accuracy: 0.8889\n",
      "Epoch 7/100\n",
      "23/23 [==============================] - 0s 2ms/step - loss: 0.2267 - accuracy: 0.9276 - val_loss: 0.3417 - val_accuracy: 0.9056\n",
      "Epoch 8/100\n",
      "23/23 [==============================] - 0s 2ms/step - loss: 0.1800 - accuracy: 0.9450 - val_loss: 0.2653 - val_accuracy: 0.9222\n",
      "Epoch 9/100\n",
      "23/23 [==============================] - 0s 2ms/step - loss: 0.1804 - accuracy: 0.9374 - val_loss: 0.3197 - val_accuracy: 0.9250\n",
      "Epoch 10/100\n",
      "23/23 [==============================] - 0s 2ms/step - loss: 0.1593 - accuracy: 0.9506 - val_loss: 0.2153 - val_accuracy: 0.9361\n",
      "Epoch 11/100\n",
      "23/23 [==============================] - 0s 2ms/step - loss: 0.1276 - accuracy: 0.9576 - val_loss: 0.1395 - val_accuracy: 0.9611\n",
      "Epoch 12/100\n",
      "23/23 [==============================] - 0s 2ms/step - loss: 0.1760 - accuracy: 0.9450 - val_loss: 0.3141 - val_accuracy: 0.9111\n",
      "Epoch 13/100\n",
      "23/23 [==============================] - 0s 2ms/step - loss: 0.1368 - accuracy: 0.9576 - val_loss: 0.1255 - val_accuracy: 0.9556\n",
      "Epoch 14/100\n",
      "23/23 [==============================] - 0s 2ms/step - loss: 0.1175 - accuracy: 0.9603 - val_loss: 0.2300 - val_accuracy: 0.9333\n",
      "Epoch 15/100\n",
      "23/23 [==============================] - 0s 2ms/step - loss: 0.1304 - accuracy: 0.9582 - val_loss: 0.1675 - val_accuracy: 0.9278\n",
      "Epoch 16/100\n",
      "23/23 [==============================] - 0s 2ms/step - loss: 0.1143 - accuracy: 0.9631 - val_loss: 0.1544 - val_accuracy: 0.9556\n",
      "Epoch 17/100\n",
      "23/23 [==============================] - 0s 2ms/step - loss: 0.0841 - accuracy: 0.9729 - val_loss: 0.2058 - val_accuracy: 0.9417\n",
      "Epoch 18/100\n",
      "23/23 [==============================] - 0s 2ms/step - loss: 0.0963 - accuracy: 0.9666 - val_loss: 0.1789 - val_accuracy: 0.9250\n",
      "Epoch 19/100\n",
      "23/23 [==============================] - 0s 2ms/step - loss: 0.1083 - accuracy: 0.9638 - val_loss: 0.1383 - val_accuracy: 0.9639\n",
      "Epoch 20/100\n",
      "23/23 [==============================] - 0s 2ms/step - loss: 0.1069 - accuracy: 0.9617 - val_loss: 0.1893 - val_accuracy: 0.9361\n",
      "Epoch 21/100\n",
      "23/23 [==============================] - 0s 2ms/step - loss: 0.1230 - accuracy: 0.9645 - val_loss: 0.1439 - val_accuracy: 0.9639\n",
      "Epoch 22/100\n",
      "23/23 [==============================] - 0s 2ms/step - loss: 0.0833 - accuracy: 0.9736 - val_loss: 0.1270 - val_accuracy: 0.9694\n",
      "Epoch 23/100\n",
      "23/23 [==============================] - 0s 2ms/step - loss: 0.0904 - accuracy: 0.9687 - val_loss: 0.1470 - val_accuracy: 0.9500\n",
      "Epoch 24/100\n",
      "23/23 [==============================] - 0s 2ms/step - loss: 0.0784 - accuracy: 0.9756 - val_loss: 0.1492 - val_accuracy: 0.9583\n",
      "Epoch 25/100\n",
      "23/23 [==============================] - 0s 2ms/step - loss: 0.0907 - accuracy: 0.9729 - val_loss: 0.1871 - val_accuracy: 0.9500\n",
      "Epoch 26/100\n",
      "23/23 [==============================] - 0s 2ms/step - loss: 0.0705 - accuracy: 0.9784 - val_loss: 0.2413 - val_accuracy: 0.9444\n",
      "Epoch 27/100\n",
      "23/23 [==============================] - 0s 2ms/step - loss: 0.0827 - accuracy: 0.9736 - val_loss: 0.1306 - val_accuracy: 0.9722\n",
      "Epoch 28/100\n",
      "23/23 [==============================] - 0s 2ms/step - loss: 0.0853 - accuracy: 0.9749 - val_loss: 0.2127 - val_accuracy: 0.9389\n",
      "Epoch 29/100\n",
      "23/23 [==============================] - 0s 2ms/step - loss: 0.0717 - accuracy: 0.9798 - val_loss: 0.2224 - val_accuracy: 0.9417\n",
      "Epoch 30/100\n",
      "23/23 [==============================] - 0s 2ms/step - loss: 0.0946 - accuracy: 0.9749 - val_loss: 0.2098 - val_accuracy: 0.9472\n",
      "Epoch 31/100\n",
      "23/23 [==============================] - 0s 2ms/step - loss: 0.0602 - accuracy: 0.9791 - val_loss: 0.1635 - val_accuracy: 0.9611\n",
      "Epoch 32/100\n",
      "23/23 [==============================] - 0s 2ms/step - loss: 0.0558 - accuracy: 0.9798 - val_loss: 0.1329 - val_accuracy: 0.9667\n",
      "Epoch 33/100\n",
      "23/23 [==============================] - 0s 2ms/step - loss: 0.0768 - accuracy: 0.9749 - val_loss: 0.1550 - val_accuracy: 0.9639\n",
      "Epoch 34/100\n",
      "23/23 [==============================] - 0s 2ms/step - loss: 0.0982 - accuracy: 0.9687 - val_loss: 0.2322 - val_accuracy: 0.9333\n",
      "Epoch 35/100\n",
      "23/23 [==============================] - 0s 2ms/step - loss: 0.0730 - accuracy: 0.9763 - val_loss: 0.1723 - val_accuracy: 0.9444\n",
      "Epoch 36/100\n",
      "23/23 [==============================] - 0s 2ms/step - loss: 0.0622 - accuracy: 0.9791 - val_loss: 0.1397 - val_accuracy: 0.9444\n",
      "Epoch 37/100\n",
      "23/23 [==============================] - 0s 2ms/step - loss: 0.0760 - accuracy: 0.9784 - val_loss: 0.1548 - val_accuracy: 0.9667\n",
      "Epoch 38/100\n",
      "23/23 [==============================] - 0s 2ms/step - loss: 0.0635 - accuracy: 0.9805 - val_loss: 0.1394 - val_accuracy: 0.9611\n"
     ]
    }
   ],
   "source": [
    "history = model.fit(\n",
    "    X_train, y_train,\n",
    "    epochs=100,\n",
    "    batch_size=64,\n",
    "    validation_data=(X_test, y_test),\n",
    "    verbose=1,\n",
    "    callbacks=[early_stopping]\n",
    ")"
   ]
  },
  {
   "cell_type": "code",
   "execution_count": 7,
   "id": "51f774c7-caa2-44ee-b6d3-fae41fe7bcb5",
   "metadata": {},
   "outputs": [
    {
     "name": "stdout",
     "output_type": "stream",
     "text": [
      "45/45 [==============================] - 0s 544us/step\n",
      "12/12 [==============================] - 0s 635us/step\n"
     ]
    },
    {
     "data": {
      "image/png": "[encoded data removed]",
      "text/plain": [
       "<Figure size 720x288 with 3 Axes>"
      ]
     },
     "metadata": {},
     "output_type": "display_data"
    },
    {
     "name": "stdout",
     "output_type": "stream",
     "text": [
      "              precision    recall  f1-score   support\n",
      "\n",
      "           0       0.95      1.00      0.97        36\n",
      "           1       0.85      0.95      0.90        37\n",
      "           2       0.94      0.97      0.96        35\n",
      "           3       1.00      0.97      0.99        37\n",
      "           4       0.97      1.00      0.99        36\n",
      "           5       0.95      0.97      0.96        36\n",
      "           6       0.94      0.94      0.94        36\n",
      "           7       1.00      0.94      0.97        36\n",
      "           8       0.97      0.86      0.91        35\n",
      "           9       1.00      0.94      0.97        36\n",
      "\n",
      "    accuracy                           0.96       360\n",
      "   macro avg       0.96      0.96      0.96       360\n",
      "weighted avg       0.96      0.96      0.96       360\n",
      "\n"
     ]
    }
   ],
   "source": [
    "from sklearn.metrics import classification_report, confusion_matrix, ConfusionMatrixDisplay\n",
    "\n",
    "# Get predictions\n",
    "y_train_pred = model.predict(X_train).argmax(axis=1)\n",
    "y_test_pred  = model.predict(X_test).argmax(axis=1)\n",
    "\n",
    "# Create a figure with two subplots side by side\n",
    "fig, axes = plt.subplots(1, 2, figsize=(10, 4))\n",
    "\n",
    "# Left subplot: Training and Validation Loss\n",
    "axes[0].plot(history.history['loss'], label='Training Loss')\n",
    "axes[0].plot(history.history['val_loss'], label='Validation Loss')\n",
    "#axes[0].set_yscale('log')\n",
    "axes[0].set_title('Training and Validation Loss')\n",
    "axes[0].set_xlabel('Epochs')\n",
    "axes[0].set_ylabel('Loss')\n",
    "axes[0].legend()\n",
    "\n",
    "# Right subplot: Confusion Matrix (Test Data) using seaborn heatmap with vmin set to 0\n",
    "cm = confusion_matrix(y_test, y_test_pred)\n",
    "sns.heatmap(cm, annot=True, fmt='d', ax=axes[1], vmin=0, \n",
    "            annot_kws={\"size\": 12}, cmap='nipy_spectral')\n",
    "axes[1].set_title('Confusion Matrix (Test Data)')\n",
    "axes[1].set_xlabel('Predicted Label')\n",
    "axes[1].set_ylabel('True Label')\n",
    "\n",
    "plt.tight_layout()\n",
    "plt.show()\n",
    "\n",
    "# Print classification report for test data\n",
    "report = classification_report(y_test, y_test_pred)\n",
    "print(report)"
   ]
  },
  {
   "cell_type": "markdown",
   "id": "221ecf40-3b58-4597-abf5-b6852e38611f",
   "metadata": {},
   "source": [
    "# Keras MNIST dataset\n",
    "\n",
    "Images are 28x28 pixels."
   ]
  },
  {
   "cell_type": "markdown",
   "id": "12656bbe-5a67-4dbd-87ea-bb43dac7edd3",
   "metadata": {},
   "source": [
    "## Load data"
   ]
  },
  {
   "cell_type": "code",
   "execution_count": 9,
   "id": "dcfba31b-e5fd-4660-8042-0957de15cbaa",
   "metadata": {},
   "outputs": [
    {
     "name": "stdout",
     "output_type": "stream",
     "text": [
      "X_train.shape: (60000, 28, 28)\n",
      "X_test.shape:  (10000, 28, 28)\n"
     ]
    }
   ],
   "source": [
    "from tensorflow.keras.datasets import mnist\n",
    "\n",
    "# Load data\n",
    "(X_train, y_train), (X_test, y_test) = mnist.load_data()\n",
    "\n",
    "# Print shapes\n",
    "print(\"X_train.shape:\", X_train.shape)\n",
    "print(\"X_test.shape: \", X_test.shape)"
   ]
  },
  {
   "cell_type": "code",
   "execution_count": 12,
   "id": "c24cc770-7d85-4aed-bb60-036c77fdb4e1",
   "metadata": {},
   "outputs": [
    {
     "data": {
      "image/png": "[encoded data removed]",
      "text/plain": [
       "<Figure size 288x288 with 1 Axes>"
      ]
     },
     "metadata": {},
     "output_type": "display_data"
    }
   ],
   "source": [
    "# Display a random image\n",
    "idx = np.random.randint(0, len(X_train))\n",
    "plt.figure(figsize=(4, 4))\n",
    "plt.imshow(X_train[idx], cmap='gray')\n",
    "plt.title(f\"Label: {y_train[idx]}\")\n",
    "plt.axis('off')\n",
    "plt.show()"
   ]
  },
  {
   "cell_type": "markdown",
   "id": "2dae4629-6370-4c35-9596-dfb88a94a1f8",
   "metadata": {},
   "source": [
    "## Create/train/analyze model"
   ]
  },
  {
   "cell_type": "code",
   "execution_count": 13,
   "id": "564abcd7-e36e-4ef0-9e8e-3a651564ae77",
   "metadata": {},
   "outputs": [
    {
     "name": "stdout",
     "output_type": "stream",
     "text": [
      "X_train_flat.shape: (60000, 784)\n",
      "X_test_flat.shape:  (10000, 784)\n"
     ]
    }
   ],
   "source": [
    "# flatten images into vectors\n",
    "X_train_flat = X_train.reshape(X_train.shape[0],-1)\n",
    "X_test_flat  = X_test.reshape(X_test.shape[0],-1)\n",
    "\n",
    "print(\"X_train_flat.shape:\", X_train_flat.shape)\n",
    "print(\"X_test_flat.shape: \", X_test_flat.shape)"
   ]
  },
  {
   "cell_type": "code",
   "execution_count": 14,
   "id": "b979a224-df9b-42b6-8253-fde4ae8bc965",
   "metadata": {},
   "outputs": [
    {
     "name": "stdout",
     "output_type": "stream",
     "text": [
      "Model: \"sequential_1\"\n",
      "_________________________________________________________________\n",
      " Layer (type)                Output Shape              Param #   \n",
      "=================================================================\n",
      " dense_4 (Dense)             (None, 32)                25120     \n",
      "                                                                 \n",
      " batch_normalization_2 (Batc  (None, 32)               128       \n",
      " hNormalization)                                                 \n",
      "                                                                 \n",
      " dropout_2 (Dropout)         (None, 32)                0         \n",
      "                                                                 \n",
      " dense_5 (Dense)             (None, 16)                528       \n",
      "                                                                 \n",
      " batch_normalization_3 (Batc  (None, 16)               64        \n",
      " hNormalization)                                                 \n",
      "                                                                 \n",
      " dropout_3 (Dropout)         (None, 16)                0         \n",
      "                                                                 \n",
      " dense_6 (Dense)             (None, 8)                 136       \n",
      "                                                                 \n",
      " dense_7 (Dense)             (None, 10)                90        \n",
      "                                                                 \n",
      "=================================================================\n",
      "Total params: 26,066\n",
      "Trainable params: 25,970\n",
      "Non-trainable params: 96\n",
      "_________________________________________________________________\n"
     ]
    }
   ],
   "source": [
    "dropout_rate = 0.1\n",
    "\n",
    "n_features = X_train_flat.shape[1]\n",
    "n_classes  = np.unique(y_train).shape[0]\n",
    "\n",
    "# Create model\n",
    "model = Sequential([\n",
    "    Input(shape=n_features),\n",
    "    \n",
    "    Dense(32, activation='relu'),\n",
    "    BatchNormalization(),\n",
    "    Dropout(dropout_rate),\n",
    "    \n",
    "    Dense(16, activation='relu'),\n",
    "    BatchNormalization(),\n",
    "    Dropout(dropout_rate),\n",
    "    \n",
    "    Dense(8, activation='relu'),\n",
    "    \n",
    "    Dense(n_classes, activation='softmax'),\n",
    "])\n",
    "\n",
    "# Define the optimizer with a custom learning rate\n",
    "optimizer = Adam(learning_rate=0.01)\n",
    "\n",
    "# Compile model\n",
    "model.compile(\n",
    "    optimizer=optimizer,\n",
    "    loss='sparse_categorical_crossentropy',\n",
    "    metrics=['accuracy']\n",
    ")\n",
    "\n",
    "# Early stopping callback\n",
    "early_stopping = EarlyStopping(\n",
    "    monitor='val_loss',  # Monitor validation loss\n",
    "    patience=25,          # Stop after 5 epochs without improvement\n",
    "    restore_best_weights=True  # Restore the best weights after stopping\n",
    ")\n",
    "\n",
    "# Display model summary\n",
    "model.summary()"
   ]
  },
  {
   "cell_type": "code",
   "execution_count": 15,
   "id": "5b3a4ced-df00-4a14-a768-e1de4ff2e4ec",
   "metadata": {},
   "outputs": [
    {
     "name": "stdout",
     "output_type": "stream",
     "text": [
      "Epoch 1/100\n",
      "938/938 [==============================] - 2s 1ms/step - loss: 0.4538 - accuracy: 0.8629 - val_loss: 0.2112 - val_accuracy: 0.9404\n",
      "Epoch 2/100\n",
      "938/938 [==============================] - 1s 1ms/step - loss: 0.2738 - accuracy: 0.9199 - val_loss: 0.1758 - val_accuracy: 0.9483\n",
      "Epoch 3/100\n",
      "938/938 [==============================] - 1s 1ms/step - loss: 0.2418 - accuracy: 0.9283 - val_loss: 0.1592 - val_accuracy: 0.9511\n",
      "Epoch 4/100\n",
      "938/938 [==============================] - 1s 1ms/step - loss: 0.2169 - accuracy: 0.9370 - val_loss: 0.1386 - val_accuracy: 0.9571\n",
      "Epoch 5/100\n",
      "938/938 [==============================] - 1s 1ms/step - loss: 0.2066 - accuracy: 0.9387 - val_loss: 0.1588 - val_accuracy: 0.9541\n",
      "Epoch 6/100\n",
      "938/938 [==============================] - 1s 1ms/step - loss: 0.1971 - accuracy: 0.9417 - val_loss: 0.1617 - val_accuracy: 0.9521\n",
      "Epoch 7/100\n",
      "938/938 [==============================] - 1s 1ms/step - loss: 0.1878 - accuracy: 0.9445 - val_loss: 0.1338 - val_accuracy: 0.9607\n",
      "Epoch 8/100\n",
      "938/938 [==============================] - 1s 1ms/step - loss: 0.1805 - accuracy: 0.9467 - val_loss: 0.1310 - val_accuracy: 0.9619\n",
      "Epoch 9/100\n",
      "938/938 [==============================] - 1s 1ms/step - loss: 0.1763 - accuracy: 0.9485 - val_loss: 0.1344 - val_accuracy: 0.9610\n",
      "Epoch 10/100\n",
      "938/938 [==============================] - 1s 1ms/step - loss: 0.1714 - accuracy: 0.9495 - val_loss: 0.1251 - val_accuracy: 0.9643\n",
      "Epoch 11/100\n",
      "938/938 [==============================] - 1s 1ms/step - loss: 0.1711 - accuracy: 0.9497 - val_loss: 0.1218 - val_accuracy: 0.9644\n",
      "Epoch 12/100\n",
      "938/938 [==============================] - 1s 1ms/step - loss: 0.1627 - accuracy: 0.9519 - val_loss: 0.1243 - val_accuracy: 0.9644\n",
      "Epoch 13/100\n",
      "938/938 [==============================] - 1s 1ms/step - loss: 0.1644 - accuracy: 0.9517 - val_loss: 0.1200 - val_accuracy: 0.9642\n",
      "Epoch 14/100\n",
      "938/938 [==============================] - 1s 1ms/step - loss: 0.1626 - accuracy: 0.9512 - val_loss: 0.1145 - val_accuracy: 0.9665\n",
      "Epoch 15/100\n",
      "938/938 [==============================] - 1s 1ms/step - loss: 0.1539 - accuracy: 0.9536 - val_loss: 0.1231 - val_accuracy: 0.9652\n",
      "Epoch 16/100\n",
      "938/938 [==============================] - 1s 1ms/step - loss: 0.1548 - accuracy: 0.9543 - val_loss: 0.1221 - val_accuracy: 0.9649\n",
      "Epoch 17/100\n",
      "938/938 [==============================] - 1s 1ms/step - loss: 0.1542 - accuracy: 0.9535 - val_loss: 0.1264 - val_accuracy: 0.9643\n",
      "Epoch 18/100\n",
      "938/938 [==============================] - 1s 1ms/step - loss: 0.1515 - accuracy: 0.9549 - val_loss: 0.1098 - val_accuracy: 0.9670\n",
      "Epoch 19/100\n",
      "938/938 [==============================] - 1s 1ms/step - loss: 0.1453 - accuracy: 0.9565 - val_loss: 0.1193 - val_accuracy: 0.9654\n",
      "Epoch 20/100\n",
      "938/938 [==============================] - 1s 1ms/step - loss: 0.1466 - accuracy: 0.9566 - val_loss: 0.1278 - val_accuracy: 0.9622\n",
      "Epoch 21/100\n",
      "938/938 [==============================] - 1s 1ms/step - loss: 0.1465 - accuracy: 0.9555 - val_loss: 0.1156 - val_accuracy: 0.9664\n",
      "Epoch 22/100\n",
      "938/938 [==============================] - 1s 1ms/step - loss: 0.1459 - accuracy: 0.9564 - val_loss: 0.1162 - val_accuracy: 0.9664\n",
      "Epoch 23/100\n",
      "938/938 [==============================] - 1s 1ms/step - loss: 0.1422 - accuracy: 0.9566 - val_loss: 0.1202 - val_accuracy: 0.9640\n",
      "Epoch 24/100\n",
      "938/938 [==============================] - 1s 1ms/step - loss: 0.1432 - accuracy: 0.9572 - val_loss: 0.1128 - val_accuracy: 0.9670\n",
      "Epoch 25/100\n",
      "938/938 [==============================] - 1s 1ms/step - loss: 0.1365 - accuracy: 0.9589 - val_loss: 0.1185 - val_accuracy: 0.9663\n",
      "Epoch 26/100\n",
      "938/938 [==============================] - 1s 1ms/step - loss: 0.1414 - accuracy: 0.9570 - val_loss: 0.1197 - val_accuracy: 0.9658\n",
      "Epoch 27/100\n",
      "938/938 [==============================] - 1s 1ms/step - loss: 0.1367 - accuracy: 0.9582 - val_loss: 0.1209 - val_accuracy: 0.9669\n",
      "Epoch 28/100\n",
      "938/938 [==============================] - 1s 1ms/step - loss: 0.1340 - accuracy: 0.9596 - val_loss: 0.1120 - val_accuracy: 0.9669\n",
      "Epoch 29/100\n",
      "938/938 [==============================] - 1s 1ms/step - loss: 0.1333 - accuracy: 0.9603 - val_loss: 0.1156 - val_accuracy: 0.9657\n",
      "Epoch 30/100\n",
      "938/938 [==============================] - 1s 1ms/step - loss: 0.1322 - accuracy: 0.9605 - val_loss: 0.1088 - val_accuracy: 0.9673\n",
      "Epoch 31/100\n",
      "938/938 [==============================] - 1s 1ms/step - loss: 0.1314 - accuracy: 0.9601 - val_loss: 0.1211 - val_accuracy: 0.9670\n",
      "Epoch 32/100\n",
      "938/938 [==============================] - 1s 1ms/step - loss: 0.1317 - accuracy: 0.9606 - val_loss: 0.1089 - val_accuracy: 0.9684\n",
      "Epoch 33/100\n",
      "938/938 [==============================] - 1s 1ms/step - loss: 0.1329 - accuracy: 0.9596 - val_loss: 0.1173 - val_accuracy: 0.9679\n",
      "Epoch 34/100\n",
      "938/938 [==============================] - 1s 1ms/step - loss: 0.1272 - accuracy: 0.9621 - val_loss: 0.1192 - val_accuracy: 0.9675\n",
      "Epoch 35/100\n",
      "938/938 [==============================] - 1s 1ms/step - loss: 0.1280 - accuracy: 0.9614 - val_loss: 0.1170 - val_accuracy: 0.9661\n",
      "Epoch 36/100\n",
      "938/938 [==============================] - 1s 1ms/step - loss: 0.1286 - accuracy: 0.9607 - val_loss: 0.1109 - val_accuracy: 0.9684\n",
      "Epoch 37/100\n",
      "938/938 [==============================] - 1s 1ms/step - loss: 0.1262 - accuracy: 0.9621 - val_loss: 0.1114 - val_accuracy: 0.9683\n",
      "Epoch 38/100\n",
      "938/938 [==============================] - 1s 1ms/step - loss: 0.1264 - accuracy: 0.9615 - val_loss: 0.1134 - val_accuracy: 0.9686\n",
      "Epoch 39/100\n",
      "938/938 [==============================] - 1s 1ms/step - loss: 0.1249 - accuracy: 0.9627 - val_loss: 0.1344 - val_accuracy: 0.9626\n",
      "Epoch 40/100\n",
      "938/938 [==============================] - 1s 1ms/step - loss: 0.1268 - accuracy: 0.9611 - val_loss: 0.1149 - val_accuracy: 0.9665\n",
      "Epoch 41/100\n",
      "938/938 [==============================] - 1s 1ms/step - loss: 0.1225 - accuracy: 0.9626 - val_loss: 0.1134 - val_accuracy: 0.9684\n",
      "Epoch 42/100\n",
      "938/938 [==============================] - 1s 1ms/step - loss: 0.1247 - accuracy: 0.9619 - val_loss: 0.1152 - val_accuracy: 0.9679\n",
      "Epoch 43/100\n",
      "938/938 [==============================] - 1s 1ms/step - loss: 0.1223 - accuracy: 0.9629 - val_loss: 0.1163 - val_accuracy: 0.9700\n",
      "Epoch 44/100\n",
      "938/938 [==============================] - 1s 1ms/step - loss: 0.1241 - accuracy: 0.9628 - val_loss: 0.1183 - val_accuracy: 0.9650\n",
      "Epoch 45/100\n",
      "938/938 [==============================] - 1s 1ms/step - loss: 0.1226 - accuracy: 0.9622 - val_loss: 0.1153 - val_accuracy: 0.9686\n",
      "Epoch 46/100\n",
      "938/938 [==============================] - 1s 1ms/step - loss: 0.1219 - accuracy: 0.9625 - val_loss: 0.1151 - val_accuracy: 0.9688\n",
      "Epoch 47/100\n",
      "938/938 [==============================] - 1s 1ms/step - loss: 0.1185 - accuracy: 0.9639 - val_loss: 0.1171 - val_accuracy: 0.9686\n",
      "Epoch 48/100\n",
      "938/938 [==============================] - 1s 1ms/step - loss: 0.1196 - accuracy: 0.9628 - val_loss: 0.1111 - val_accuracy: 0.9697\n",
      "Epoch 49/100\n",
      "938/938 [==============================] - 1s 1ms/step - loss: 0.1192 - accuracy: 0.9639 - val_loss: 0.1128 - val_accuracy: 0.9682\n",
      "Epoch 50/100\n",
      "938/938 [==============================] - 1s 1ms/step - loss: 0.1192 - accuracy: 0.9637 - val_loss: 0.1215 - val_accuracy: 0.9665\n",
      "Epoch 51/100\n",
      "938/938 [==============================] - 1s 1ms/step - loss: 0.1188 - accuracy: 0.9632 - val_loss: 0.1111 - val_accuracy: 0.9673\n",
      "Epoch 52/100\n",
      "938/938 [==============================] - 1s 1ms/step - loss: 0.1187 - accuracy: 0.9644 - val_loss: 0.1165 - val_accuracy: 0.9674\n",
      "Epoch 53/100\n",
      "938/938 [==============================] - 1s 1ms/step - loss: 0.1139 - accuracy: 0.9653 - val_loss: 0.1246 - val_accuracy: 0.9653\n",
      "Epoch 54/100\n",
      "938/938 [==============================] - 1s 1ms/step - loss: 0.1198 - accuracy: 0.9626 - val_loss: 0.1195 - val_accuracy: 0.9659\n",
      "Epoch 55/100\n",
      "938/938 [==============================] - 1s 1ms/step - loss: 0.1174 - accuracy: 0.9635 - val_loss: 0.1113 - val_accuracy: 0.9685\n"
     ]
    }
   ],
   "source": [
    "history = model.fit(\n",
    "    X_train_flat, y_train,\n",
    "    epochs=50,\n",
    "    batch_size=64,\n",
    "    validation_data=(X_test_flat, y_test),\n",
    "    verbose=1,\n",
    "    callbacks=[early_stopping]\n",
    ")"
   ]
  },
  {
   "cell_type": "code",
   "execution_count": 16,
   "id": "7b74c430-3ea5-4423-ac01-c7331a2fcddf",
   "metadata": {},
   "outputs": [
    {
     "name": "stdout",
     "output_type": "stream",
     "text": [
      "1875/1875 [==============================] - 1s 549us/step\n",
      "313/313 [==============================] - 0s 580us/step\n"
     ]
    },
    {
     "data": {
      "image/png": "[encoded data removed]",
      "text/plain": [
       "<Figure size 720x288 with 3 Axes>"
      ]
     },
     "metadata": {},
     "output_type": "display_data"
    },
    {
     "name": "stdout",
     "output_type": "stream",
     "text": [
      "              precision    recall  f1-score   support\n",
      "\n",
      "           0       0.97      0.99      0.98       980\n",
      "           1       0.97      0.99      0.98      1135\n",
      "           2       0.97      0.97      0.97      1032\n",
      "           3       0.96      0.96      0.96      1010\n",
      "           4       0.97      0.95      0.96       982\n",
      "           5       0.96      0.96      0.96       892\n",
      "           6       0.96      0.97      0.97       958\n",
      "           7       0.97      0.97      0.97      1028\n",
      "           8       0.98      0.95      0.97       974\n",
      "           9       0.96      0.95      0.96      1009\n",
      "\n",
      "    accuracy                           0.97     10000\n",
      "   macro avg       0.97      0.97      0.97     10000\n",
      "weighted avg       0.97      0.97      0.97     10000\n",
      "\n"
     ]
    }
   ],
   "source": [
    "from sklearn.metrics import classification_report, confusion_matrix, ConfusionMatrixDisplay\n",
    "\n",
    "# Get predictions\n",
    "y_train_pred = model.predict(X_train_flat).argmax(axis=1)\n",
    "y_test_pred  = model.predict(X_test_flat).argmax(axis=1)\n",
    "\n",
    "# Create a figure with two subplots side by side\n",
    "fig, axes = plt.subplots(1, 2, figsize=(10, 4))\n",
    "\n",
    "# Left subplot: Training and Validation Loss\n",
    "axes[0].plot(history.history['loss'], label='Training Loss')\n",
    "axes[0].plot(history.history['val_loss'], label='Validation Loss')\n",
    "#axes[0].set_yscale('log')\n",
    "axes[0].set_title('Training and Validation Loss')\n",
    "axes[0].set_xlabel('Epochs')\n",
    "axes[0].set_ylabel('Loss')\n",
    "axes[0].legend()\n",
    "\n",
    "# Right subplot: Confusion Matrix (Test Data) using seaborn heatmap with vmin set to 0\n",
    "cm = confusion_matrix(y_test, y_test_pred)\n",
    "sns.heatmap(cm, annot=True, fmt='d', ax=axes[1], vmin=0, \n",
    "            annot_kws={\"size\": 12}, cmap='nipy_spectral')\n",
    "axes[1].set_title('Confusion Matrix (Test Data)')\n",
    "axes[1].set_xlabel('Predicted Label')\n",
    "axes[1].set_ylabel('True Label')\n",
    "\n",
    "plt.tight_layout()\n",
    "plt.show()\n",
    "\n",
    "# Print classification report for test data\n",
    "report = classification_report(y_test, y_test_pred)\n",
    "print(report)"
   ]
  },
  {
   "cell_type": "markdown",
   "id": "e17899a8-fdd1-4c1c-aa22-8bd43aef88e3",
   "metadata": {},
   "source": [
    "## Predict an augmented image"
   ]
  },
  {
   "cell_type": "code",
   "execution_count": 27,
   "id": "4c776d4e-44a4-4e1d-b0a4-57b66ab97d09",
   "metadata": {},
   "outputs": [
    {
     "data": {
      "image/png": "[encoded data removed]",
      "text/plain": [
       "<Figure size 576x288 with 2 Axes>"
      ]
     },
     "metadata": {},
     "output_type": "display_data"
    }
   ],
   "source": [
    "from tensorflow.keras.preprocessing.image import ImageDataGenerator\n",
    "\n",
    "# Define the image generator with augmentation options\n",
    "datagen = ImageDataGenerator(\n",
    "    rotation_range=30,      # Rotate images randomly\n",
    "    width_shift_range=0.2,  # Randomly shift the width of images\n",
    "    height_shift_range=0.2, # Randomly shift the height of images\n",
    "    zoom_range=0.2,         # Randomly zoom\n",
    "    shear_range=0.1         # Apply shear transformation\n",
    ")\n",
    "\n",
    "idx = np.random.randint(0, len(X_test))\n",
    "\n",
    "image_orig = X_test[idx]\n",
    "\n",
    "image_aug = datagen.flow(\n",
    "    image_orig[np.newaxis,:,:,np.newaxis],\n",
    "    batch_size=1,\n",
    "    shuffle=False\n",
    ").next()[0,:,:,0]\n",
    "\n",
    "# Plot original and augmented image\n",
    "plt.figure(figsize=(8, 4))\n",
    "\n",
    "plt.subplot(1, 2, 1)\n",
    "plt.imshow(image_orig, cmap='gray')\n",
    "plt.title(\"Original\")\n",
    "\n",
    "plt.subplot(1, 2, 2)\n",
    "plt.imshow(image_aug, cmap='gray')\n",
    "plt.title(\"Augmented\")\n",
    "\n",
    "plt.tight_layout()\n",
    "plt.show()"
   ]
  },
  {
   "cell_type": "code",
   "execution_count": 28,
   "id": "42fd8611-eaa8-4691-a277-52a1507d3c6e",
   "metadata": {},
   "outputs": [
    {
     "name": "stdout",
     "output_type": "stream",
     "text": [
      "1/1 [==============================] - 0s 13ms/step\n",
      "1/1 [==============================] - 0s 13ms/step\n",
      "Original image prediction:  0\n",
      "Augmented image prediction: 1\n"
     ]
    }
   ],
   "source": [
    "# Ensure image shape is (1, 28, 28, 1) and type is float32\n",
    "image_orig_input = image_orig.flatten()[np.newaxis, :]\n",
    "image_aug_input  = image_aug.flatten()[np.newaxis, :]\n",
    "\n",
    "# Predict using the model\n",
    "pred_orig = model.predict(image_orig_input)\n",
    "pred_aug = model.predict(image_aug_input)\n",
    "\n",
    "# Get predicted digit (argmax of class probabilities)\n",
    "digit_orig = np.argmax(pred_orig)\n",
    "digit_aug = np.argmax(pred_aug)\n",
    "\n",
    "print(f\"Original image prediction:  {digit_orig}\")\n",
    "print(f\"Augmented image prediction: {digit_aug}\")"
   ]
  },
  {
   "cell_type": "markdown",
   "id": "27462f8f-a5bb-45d3-af8b-4492797c85e0",
   "metadata": {},
   "source": [
    "Since only the center pixels ever have ink in them where the letters are drawn, the weights corresponding to the outer pixels don't ever get and information to train on other than 0's. This means that images which are different in scale, translation, or rotation will not be accurately predicted."
   ]
  },
  {
   "cell_type": "markdown",
   "id": "cdb8799c-b587-4f94-954b-e238e510dcfa",
   "metadata": {},
   "source": [
    "# Keras MNIST w/ augmented images"
   ]
  },
  {
   "cell_type": "markdown",
   "id": "3ecf1db9-131b-49c4-8ca8-e2d2df445a20",
   "metadata": {},
   "source": [
    "## Create augmented dataset"
   ]
  },
  {
   "cell_type": "code",
   "execution_count": 33,
   "id": "bf3ef86b-19f8-467d-95ab-4fc1b4b3ce56",
   "metadata": {},
   "outputs": [
    {
     "name": "stdout",
     "output_type": "stream",
     "text": [
      "X_train.shape: (60000, 28, 28)\n",
      "X_test.shape:  (10000, 28, 28)\n"
     ]
    }
   ],
   "source": [
    "from tensorflow.keras.datasets import mnist\n",
    "\n",
    "# Load data\n",
    "(X_train, y_train), (X_test, y_test) = mnist.load_data()\n",
    "\n",
    "# Print shapes\n",
    "print(\"X_train.shape:\", X_train.shape)\n",
    "print(\"X_test.shape: \", X_test.shape)"
   ]
  },
  {
   "cell_type": "code",
   "execution_count": 35,
   "id": "7f3a65fb-4a08-4f85-81b8-fba62e354f4e",
   "metadata": {},
   "outputs": [
    {
     "data": {
      "image/png": "[encoded data removed]",
      "text/plain": [
       "<Figure size 720x216 with 3 Axes>"
      ]
     },
     "metadata": {},
     "output_type": "display_data"
    },
    {
     "data": {
      "image/png": "[encoded data removed]",
      "text/plain": [
       "<Figure size 720x216 with 3 Axes>"
      ]
     },
     "metadata": {},
     "output_type": "display_data"
    }
   ],
   "source": [
    "from tensorflow.keras.preprocessing.image import ImageDataGenerator\n",
    "\n",
    "# Define the image generator with augmentation options\n",
    "datagen = ImageDataGenerator(\n",
    "    rotation_range=30,      # Rotate images randomly\n",
    "    width_shift_range=0.2,  # Randomly shift the width of images\n",
    "    height_shift_range=0.2, # Randomly shift the height of images\n",
    "    zoom_range=0.2,         # Randomly zoom\n",
    "    shear_range=0.1         # Apply shear transformation\n",
    ")\n",
    "\n",
    "# Plot the first 3 images\n",
    "plt.figure(figsize=(10, 3))\n",
    "for i in range(3):\n",
    "    plt.subplot(1, 3, i + 1)\n",
    "    plt.imshow(X_train[i], cmap='gray')\n",
    "    plt.title(f\"Image {i}\")\n",
    "    plt.axis('off')\n",
    "plt.tight_layout()\n",
    "plt.show()\n",
    "\n",
    "X_train = datagen.flow(\n",
    "    X_train[:,:,:,np.newaxis],\n",
    "    batch_size=X_train.shape[0],\n",
    "    shuffle=False\n",
    ").next()[:,:,:,0]\n",
    "\n",
    "# Plot the first 3 images\n",
    "plt.figure(figsize=(10, 3))\n",
    "for i in range(3):\n",
    "    plt.subplot(1, 3, i + 1)\n",
    "    plt.imshow(X_train[i], cmap='gray')\n",
    "    plt.title(f\"Image {i}\")\n",
    "    plt.axis('off')\n",
    "plt.tight_layout()\n",
    "plt.show()\n",
    "\n",
    "X_test = datagen.flow(\n",
    "    X_test[:,:,:,np.newaxis],\n",
    "    batch_size=X_test.shape[0],\n",
    "    shuffle=False\n",
    ").next()[:,:,:,0]"
   ]
  },
  {
   "cell_type": "markdown",
   "id": "01d6a00b-e1bf-4025-befb-77449b2f8d6e",
   "metadata": {},
   "source": [
    "## Create/train/analyze model"
   ]
  },
  {
   "cell_type": "code",
   "execution_count": 36,
   "id": "1317c63d-3fd2-4f34-ae73-002f2d36f030",
   "metadata": {},
   "outputs": [
    {
     "name": "stdout",
     "output_type": "stream",
     "text": [
      "X_train_flat.shape: (60000, 784)\n",
      "X_test_flat.shape:  (10000, 784)\n"
     ]
    }
   ],
   "source": [
    "# flatten images into vectors\n",
    "X_train_flat = X_train.reshape(X_train.shape[0],-1)\n",
    "X_test_flat  = X_test.reshape(X_test.shape[0],-1)\n",
    "\n",
    "print(\"X_train_flat.shape:\", X_train_flat.shape)\n",
    "print(\"X_test_flat.shape: \", X_test_flat.shape)"
   ]
  },
  {
   "cell_type": "code",
   "execution_count": 37,
   "id": "68fc2bb3-1d74-4985-9cf6-2b58f114d6da",
   "metadata": {},
   "outputs": [
    {
     "name": "stdout",
     "output_type": "stream",
     "text": [
      "Model: \"sequential_2\"\n",
      "_________________________________________________________________\n",
      " Layer (type)                Output Shape              Param #   \n",
      "=================================================================\n",
      " dense_8 (Dense)             (None, 32)                25120     \n",
      "                                                                 \n",
      " batch_normalization_4 (Batc  (None, 32)               128       \n",
      " hNormalization)                                                 \n",
      "                                                                 \n",
      " dropout_4 (Dropout)         (None, 32)                0         \n",
      "                                                                 \n",
      " dense_9 (Dense)             (None, 16)                528       \n",
      "                                                                 \n",
      " batch_normalization_5 (Batc  (None, 16)               64        \n",
      " hNormalization)                                                 \n",
      "                                                                 \n",
      " dropout_5 (Dropout)         (None, 16)                0         \n",
      "                                                                 \n",
      " dense_10 (Dense)            (None, 8)                 136       \n",
      "                                                                 \n",
      " dense_11 (Dense)            (None, 10)                90        \n",
      "                                                                 \n",
      "=================================================================\n",
      "Total params: 26,066\n",
      "Trainable params: 25,970\n",
      "Non-trainable params: 96\n",
      "_________________________________________________________________\n"
     ]
    }
   ],
   "source": [
    "dropout_rate = 0.1\n",
    "\n",
    "n_features = X_train_flat.shape[1]\n",
    "n_classes  = np.unique(y_train).shape[0]\n",
    "\n",
    "# Create model\n",
    "model = Sequential([\n",
    "    Input(shape=n_features),\n",
    "    \n",
    "    Dense(32, activation='relu'),\n",
    "    BatchNormalization(),\n",
    "    Dropout(dropout_rate),\n",
    "    \n",
    "    Dense(16, activation='relu'),\n",
    "    BatchNormalization(),\n",
    "    Dropout(dropout_rate),\n",
    "    \n",
    "    Dense(8, activation='relu'),\n",
    "    \n",
    "    Dense(n_classes, activation='softmax'),\n",
    "])\n",
    "\n",
    "# Define the optimizer with a custom learning rate\n",
    "optimizer = Adam(learning_rate=0.01)\n",
    "\n",
    "# Compile model\n",
    "model.compile(\n",
    "    optimizer=optimizer,\n",
    "    loss='sparse_categorical_crossentropy',\n",
    "    metrics=['accuracy']\n",
    ")\n",
    "\n",
    "# Early stopping callback\n",
    "early_stopping = EarlyStopping(\n",
    "    monitor='val_loss',  # Monitor validation loss\n",
    "    patience=25,          # Stop after 5 epochs without improvement\n",
    "    restore_best_weights=True  # Restore the best weights after stopping\n",
    ")\n",
    "\n",
    "# Display model summary\n",
    "model.summary()"
   ]
  },
  {
   "cell_type": "code",
   "execution_count": 38,
   "id": "160a1faf-d4c0-4678-8282-a6d346bb2d2a",
   "metadata": {},
   "outputs": [
    {
     "name": "stdout",
     "output_type": "stream",
     "text": [
      "Epoch 1/100\n",
      "938/938 [==============================] - 2s 1ms/step - loss: 1.6486 - accuracy: 0.4172 - val_loss: 1.2015 - val_accuracy: 0.5955\n",
      "Epoch 2/100\n",
      "938/938 [==============================] - 1s 1ms/step - loss: 1.3536 - accuracy: 0.5335 - val_loss: 1.1286 - val_accuracy: 0.6362\n",
      "Epoch 3/100\n",
      "938/938 [==============================] - 1s 1ms/step - loss: 1.2477 - accuracy: 0.5721 - val_loss: 0.9789 - val_accuracy: 0.6807\n",
      "Epoch 4/100\n",
      "938/938 [==============================] - 1s 1ms/step - loss: 1.1824 - accuracy: 0.5958 - val_loss: 0.9445 - val_accuracy: 0.6844\n",
      "Epoch 5/100\n",
      "938/938 [==============================] - 1s 1ms/step - loss: 1.1441 - accuracy: 0.6083 - val_loss: 0.9437 - val_accuracy: 0.6915\n",
      "Epoch 6/100\n",
      "938/938 [==============================] - 1s 1ms/step - loss: 1.1151 - accuracy: 0.6185 - val_loss: 0.8804 - val_accuracy: 0.7073\n",
      "Epoch 7/100\n",
      "938/938 [==============================] - 1s 1ms/step - loss: 1.0935 - accuracy: 0.6267 - val_loss: 0.8898 - val_accuracy: 0.7087\n",
      "Epoch 8/100\n",
      "938/938 [==============================] - 1s 1ms/step - loss: 1.0677 - accuracy: 0.6355 - val_loss: 0.8536 - val_accuracy: 0.7199\n",
      "Epoch 9/100\n",
      "938/938 [==============================] - 1s 1ms/step - loss: 1.0507 - accuracy: 0.6413 - val_loss: 0.8368 - val_accuracy: 0.7250\n",
      "Epoch 10/100\n",
      "938/938 [==============================] - 1s 1ms/step - loss: 1.0435 - accuracy: 0.6459 - val_loss: 0.8169 - val_accuracy: 0.7313\n",
      "Epoch 11/100\n",
      "938/938 [==============================] - 1s 1ms/step - loss: 1.0291 - accuracy: 0.6502 - val_loss: 0.8050 - val_accuracy: 0.7353\n",
      "Epoch 12/100\n",
      "938/938 [==============================] - 1s 1ms/step - loss: 1.0225 - accuracy: 0.6536 - val_loss: 0.7963 - val_accuracy: 0.7371\n",
      "Epoch 13/100\n",
      "938/938 [==============================] - 1s 1ms/step - loss: 1.0125 - accuracy: 0.6558 - val_loss: 0.7956 - val_accuracy: 0.7414\n",
      "Epoch 14/100\n",
      "938/938 [==============================] - 1s 1ms/step - loss: 1.0038 - accuracy: 0.6626 - val_loss: 0.7947 - val_accuracy: 0.7430\n",
      "Epoch 15/100\n",
      "938/938 [==============================] - 1s 1ms/step - loss: 0.9982 - accuracy: 0.6621 - val_loss: 0.7758 - val_accuracy: 0.7477\n",
      "Epoch 16/100\n",
      "938/938 [==============================] - 1s 1ms/step - loss: 0.9923 - accuracy: 0.6647 - val_loss: 0.7592 - val_accuracy: 0.7552\n",
      "Epoch 17/100\n",
      "938/938 [==============================] - 1s 1ms/step - loss: 0.9898 - accuracy: 0.6657 - val_loss: 0.7768 - val_accuracy: 0.7502\n",
      "Epoch 18/100\n",
      "938/938 [==============================] - 1s 1ms/step - loss: 0.9851 - accuracy: 0.6658 - val_loss: 0.8095 - val_accuracy: 0.7331\n",
      "Epoch 19/100\n",
      "938/938 [==============================] - 1s 1ms/step - loss: 0.9784 - accuracy: 0.6680 - val_loss: 0.7644 - val_accuracy: 0.7512\n",
      "Epoch 20/100\n",
      "938/938 [==============================] - 1s 1ms/step - loss: 0.9720 - accuracy: 0.6731 - val_loss: 0.7856 - val_accuracy: 0.7471\n",
      "Epoch 21/100\n",
      "938/938 [==============================] - 1s 1ms/step - loss: 0.9647 - accuracy: 0.6729 - val_loss: 0.7511 - val_accuracy: 0.7556\n",
      "Epoch 22/100\n",
      "938/938 [==============================] - 1s 1ms/step - loss: 0.9641 - accuracy: 0.6753 - val_loss: 0.7379 - val_accuracy: 0.7575\n",
      "Epoch 23/100\n",
      "938/938 [==============================] - 1s 1ms/step - loss: 0.9620 - accuracy: 0.6753 - val_loss: 0.7793 - val_accuracy: 0.7455\n",
      "Epoch 24/100\n",
      "938/938 [==============================] - 1s 1ms/step - loss: 0.9596 - accuracy: 0.6759 - val_loss: 0.7335 - val_accuracy: 0.7656\n",
      "Epoch 25/100\n",
      "938/938 [==============================] - 1s 1ms/step - loss: 0.9556 - accuracy: 0.6774 - val_loss: 0.7398 - val_accuracy: 0.7603\n",
      "Epoch 26/100\n",
      "938/938 [==============================] - 1s 1ms/step - loss: 0.9507 - accuracy: 0.6800 - val_loss: 0.7431 - val_accuracy: 0.7640\n",
      "Epoch 27/100\n",
      "938/938 [==============================] - 1s 1ms/step - loss: 0.9499 - accuracy: 0.6797 - val_loss: 0.7290 - val_accuracy: 0.7655\n",
      "Epoch 28/100\n",
      "938/938 [==============================] - 1s 1ms/step - loss: 0.9457 - accuracy: 0.6805 - val_loss: 0.7313 - val_accuracy: 0.7650\n",
      "Epoch 29/100\n",
      "938/938 [==============================] - 1s 1ms/step - loss: 0.9412 - accuracy: 0.6822 - val_loss: 0.7228 - val_accuracy: 0.7668\n",
      "Epoch 30/100\n",
      "938/938 [==============================] - 1s 1ms/step - loss: 0.9394 - accuracy: 0.6847 - val_loss: 0.7304 - val_accuracy: 0.7653\n",
      "Epoch 31/100\n",
      "938/938 [==============================] - 1s 1ms/step - loss: 0.9372 - accuracy: 0.6838 - val_loss: 0.7254 - val_accuracy: 0.7675\n",
      "Epoch 32/100\n",
      "938/938 [==============================] - 1s 1ms/step - loss: 0.9316 - accuracy: 0.6870 - val_loss: 0.7187 - val_accuracy: 0.7676\n",
      "Epoch 33/100\n",
      "938/938 [==============================] - 1s 1ms/step - loss: 0.9333 - accuracy: 0.6847 - val_loss: 0.7302 - val_accuracy: 0.7636\n",
      "Epoch 34/100\n",
      "938/938 [==============================] - 1s 1ms/step - loss: 0.9328 - accuracy: 0.6860 - val_loss: 0.7381 - val_accuracy: 0.7584\n",
      "Epoch 35/100\n",
      "938/938 [==============================] - 1s 1ms/step - loss: 0.9348 - accuracy: 0.6855 - val_loss: 0.7439 - val_accuracy: 0.7597\n",
      "Epoch 36/100\n",
      "938/938 [==============================] - 1s 1ms/step - loss: 0.9281 - accuracy: 0.6857 - val_loss: 0.7350 - val_accuracy: 0.7607\n",
      "Epoch 37/100\n",
      "938/938 [==============================] - 1s 1ms/step - loss: 0.9236 - accuracy: 0.6890 - val_loss: 0.7388 - val_accuracy: 0.7557\n",
      "Epoch 38/100\n",
      "938/938 [==============================] - 1s 1ms/step - loss: 0.9239 - accuracy: 0.6906 - val_loss: 0.7383 - val_accuracy: 0.7588\n",
      "Epoch 39/100\n",
      "938/938 [==============================] - 1s 1ms/step - loss: 0.9223 - accuracy: 0.6906 - val_loss: 0.7490 - val_accuracy: 0.7602\n",
      "Epoch 40/100\n",
      "938/938 [==============================] - 1s 1ms/step - loss: 0.9195 - accuracy: 0.6914 - val_loss: 0.7202 - val_accuracy: 0.7698\n",
      "Epoch 41/100\n",
      "938/938 [==============================] - 1s 1ms/step - loss: 0.9191 - accuracy: 0.6915 - val_loss: 0.7210 - val_accuracy: 0.7695\n",
      "Epoch 42/100\n",
      "938/938 [==============================] - 1s 1ms/step - loss: 0.9204 - accuracy: 0.6891 - val_loss: 0.7149 - val_accuracy: 0.7668\n",
      "Epoch 43/100\n",
      "938/938 [==============================] - 1s 1ms/step - loss: 0.9127 - accuracy: 0.6948 - val_loss: 0.7190 - val_accuracy: 0.7670\n",
      "Epoch 44/100\n",
      "938/938 [==============================] - 1s 1ms/step - loss: 0.9096 - accuracy: 0.6925 - val_loss: 0.7351 - val_accuracy: 0.7582\n",
      "Epoch 45/100\n",
      "938/938 [==============================] - 1s 1ms/step - loss: 0.9094 - accuracy: 0.6932 - val_loss: 0.7146 - val_accuracy: 0.7658\n",
      "Epoch 46/100\n",
      "938/938 [==============================] - 1s 1ms/step - loss: 0.9063 - accuracy: 0.6944 - val_loss: 0.7354 - val_accuracy: 0.7562\n",
      "Epoch 47/100\n",
      "938/938 [==============================] - 1s 1ms/step - loss: 0.9068 - accuracy: 0.6946 - val_loss: 0.7144 - val_accuracy: 0.7682\n",
      "Epoch 48/100\n",
      "938/938 [==============================] - 1s 1ms/step - loss: 0.9115 - accuracy: 0.6930 - val_loss: 0.7094 - val_accuracy: 0.7668\n",
      "Epoch 49/100\n",
      "938/938 [==============================] - 1s 1ms/step - loss: 0.9040 - accuracy: 0.6958 - val_loss: 0.7065 - val_accuracy: 0.7667\n",
      "Epoch 50/100\n",
      "938/938 [==============================] - 1s 1ms/step - loss: 0.9059 - accuracy: 0.6952 - val_loss: 0.7120 - val_accuracy: 0.7624\n",
      "Epoch 51/100\n",
      "938/938 [==============================] - 1s 1ms/step - loss: 0.9030 - accuracy: 0.6981 - val_loss: 0.7179 - val_accuracy: 0.7693\n",
      "Epoch 52/100\n",
      "938/938 [==============================] - 1s 1ms/step - loss: 0.8989 - accuracy: 0.6982 - val_loss: 0.7002 - val_accuracy: 0.7701\n",
      "Epoch 53/100\n",
      "938/938 [==============================] - 1s 1ms/step - loss: 0.9036 - accuracy: 0.6962 - val_loss: 0.7103 - val_accuracy: 0.7726\n",
      "Epoch 54/100\n",
      "938/938 [==============================] - 1s 1ms/step - loss: 0.8962 - accuracy: 0.6991 - val_loss: 0.7156 - val_accuracy: 0.7668\n",
      "Epoch 55/100\n",
      "938/938 [==============================] - 1s 1ms/step - loss: 0.8975 - accuracy: 0.6971 - val_loss: 0.7095 - val_accuracy: 0.7654\n",
      "Epoch 56/100\n",
      "938/938 [==============================] - 1s 1ms/step - loss: 0.8974 - accuracy: 0.6970 - val_loss: 0.7196 - val_accuracy: 0.7663\n",
      "Epoch 57/100\n",
      "938/938 [==============================] - 1s 1ms/step - loss: 0.8916 - accuracy: 0.6991 - val_loss: 0.7219 - val_accuracy: 0.7620\n",
      "Epoch 58/100\n",
      "938/938 [==============================] - 1s 1ms/step - loss: 0.8944 - accuracy: 0.6991 - val_loss: 0.7011 - val_accuracy: 0.7792\n",
      "Epoch 59/100\n",
      "938/938 [==============================] - 1s 1ms/step - loss: 0.8957 - accuracy: 0.6994 - val_loss: 0.6961 - val_accuracy: 0.7753\n",
      "Epoch 60/100\n",
      "938/938 [==============================] - 1s 1ms/step - loss: 0.8922 - accuracy: 0.6986 - val_loss: 0.7045 - val_accuracy: 0.7736\n",
      "Epoch 61/100\n",
      "938/938 [==============================] - 1s 1ms/step - loss: 0.8930 - accuracy: 0.7011 - val_loss: 0.7106 - val_accuracy: 0.7670\n",
      "Epoch 62/100\n",
      "938/938 [==============================] - 1s 1ms/step - loss: 0.8908 - accuracy: 0.7000 - val_loss: 0.6863 - val_accuracy: 0.7796\n",
      "Epoch 63/100\n",
      "938/938 [==============================] - 1s 1ms/step - loss: 0.8922 - accuracy: 0.7014 - val_loss: 0.7023 - val_accuracy: 0.7755\n",
      "Epoch 64/100\n",
      "938/938 [==============================] - 1s 1ms/step - loss: 0.8849 - accuracy: 0.7016 - val_loss: 0.7154 - val_accuracy: 0.7704\n",
      "Epoch 65/100\n",
      "938/938 [==============================] - 1s 1ms/step - loss: 0.8888 - accuracy: 0.7004 - val_loss: 0.7023 - val_accuracy: 0.7724\n",
      "Epoch 66/100\n",
      "938/938 [==============================] - 1s 1ms/step - loss: 0.8858 - accuracy: 0.7033 - val_loss: 0.7169 - val_accuracy: 0.7646\n",
      "Epoch 67/100\n",
      "938/938 [==============================] - 1s 1ms/step - loss: 0.8854 - accuracy: 0.7014 - val_loss: 0.7122 - val_accuracy: 0.7649\n",
      "Epoch 68/100\n",
      "938/938 [==============================] - 1s 1ms/step - loss: 0.8888 - accuracy: 0.7030 - val_loss: 0.7036 - val_accuracy: 0.7760\n",
      "Epoch 69/100\n",
      "938/938 [==============================] - 1s 1ms/step - loss: 0.8797 - accuracy: 0.7042 - val_loss: 0.7083 - val_accuracy: 0.7691\n",
      "Epoch 70/100\n",
      "938/938 [==============================] - 1s 1ms/step - loss: 0.8831 - accuracy: 0.7049 - val_loss: 0.7041 - val_accuracy: 0.7727\n",
      "Epoch 71/100\n",
      "938/938 [==============================] - 1s 1ms/step - loss: 0.8832 - accuracy: 0.7046 - val_loss: 0.7077 - val_accuracy: 0.7732\n",
      "Epoch 72/100\n",
      "938/938 [==============================] - 1s 1ms/step - loss: 0.8826 - accuracy: 0.7041 - val_loss: 0.7026 - val_accuracy: 0.7713\n",
      "Epoch 73/100\n",
      "938/938 [==============================] - 1s 1ms/step - loss: 0.8828 - accuracy: 0.7033 - val_loss: 0.6927 - val_accuracy: 0.7754\n",
      "Epoch 74/100\n",
      "938/938 [==============================] - 1s 1ms/step - loss: 0.8815 - accuracy: 0.7055 - val_loss: 0.6994 - val_accuracy: 0.7734\n",
      "Epoch 75/100\n",
      "938/938 [==============================] - 1s 1ms/step - loss: 0.8794 - accuracy: 0.7034 - val_loss: 0.7079 - val_accuracy: 0.7678\n",
      "Epoch 76/100\n",
      "938/938 [==============================] - 1s 1ms/step - loss: 0.8803 - accuracy: 0.7037 - val_loss: 0.6907 - val_accuracy: 0.7749\n",
      "Epoch 77/100\n",
      "938/938 [==============================] - 1s 1ms/step - loss: 0.8772 - accuracy: 0.7045 - val_loss: 0.6939 - val_accuracy: 0.7744\n",
      "Epoch 78/100\n",
      "938/938 [==============================] - 1s 1ms/step - loss: 0.8784 - accuracy: 0.7082 - val_loss: 0.7046 - val_accuracy: 0.7717\n",
      "Epoch 79/100\n",
      "938/938 [==============================] - 1s 1ms/step - loss: 0.8779 - accuracy: 0.7052 - val_loss: 0.7055 - val_accuracy: 0.7749\n",
      "Epoch 80/100\n",
      "938/938 [==============================] - 1s 1ms/step - loss: 0.8722 - accuracy: 0.7066 - val_loss: 0.6923 - val_accuracy: 0.7722\n",
      "Epoch 81/100\n",
      "938/938 [==============================] - 1s 1ms/step - loss: 0.8688 - accuracy: 0.7106 - val_loss: 0.6936 - val_accuracy: 0.7743\n",
      "Epoch 82/100\n",
      "938/938 [==============================] - 1s 1ms/step - loss: 0.8698 - accuracy: 0.7076 - val_loss: 0.6859 - val_accuracy: 0.7788\n",
      "Epoch 83/100\n",
      "938/938 [==============================] - 1s 1ms/step - loss: 0.8716 - accuracy: 0.7092 - val_loss: 0.6925 - val_accuracy: 0.7704\n",
      "Epoch 84/100\n",
      "938/938 [==============================] - 1s 1ms/step - loss: 0.8734 - accuracy: 0.7074 - val_loss: 0.7082 - val_accuracy: 0.7699\n",
      "Epoch 85/100\n",
      "938/938 [==============================] - 1s 1ms/step - loss: 0.8677 - accuracy: 0.7088 - val_loss: 0.7034 - val_accuracy: 0.7653\n",
      "Epoch 86/100\n",
      "938/938 [==============================] - 1s 1ms/step - loss: 0.8716 - accuracy: 0.7085 - val_loss: 0.6911 - val_accuracy: 0.7739\n",
      "Epoch 87/100\n",
      "938/938 [==============================] - 1s 1ms/step - loss: 0.8688 - accuracy: 0.7098 - val_loss: 0.6897 - val_accuracy: 0.7728\n",
      "Epoch 88/100\n",
      "938/938 [==============================] - 1s 1ms/step - loss: 0.8667 - accuracy: 0.7083 - val_loss: 0.7007 - val_accuracy: 0.7729\n",
      "Epoch 89/100\n",
      "938/938 [==============================] - 1s 1ms/step - loss: 0.8721 - accuracy: 0.7073 - val_loss: 0.7173 - val_accuracy: 0.7648\n",
      "Epoch 90/100\n",
      "938/938 [==============================] - 1s 1ms/step - loss: 0.8661 - accuracy: 0.7087 - val_loss: 0.6998 - val_accuracy: 0.7728\n",
      "Epoch 91/100\n",
      "938/938 [==============================] - 1s 1ms/step - loss: 0.8701 - accuracy: 0.7083 - val_loss: 0.6912 - val_accuracy: 0.7734\n",
      "Epoch 92/100\n",
      "938/938 [==============================] - 1s 1ms/step - loss: 0.8728 - accuracy: 0.7054 - val_loss: 0.6944 - val_accuracy: 0.7757\n",
      "Epoch 93/100\n",
      "938/938 [==============================] - 1s 1ms/step - loss: 0.8672 - accuracy: 0.7107 - val_loss: 0.6939 - val_accuracy: 0.7728\n",
      "Epoch 94/100\n",
      "938/938 [==============================] - 1s 1ms/step - loss: 0.8660 - accuracy: 0.7112 - val_loss: 0.6895 - val_accuracy: 0.7717\n",
      "Epoch 95/100\n",
      "938/938 [==============================] - 1s 1ms/step - loss: 0.8627 - accuracy: 0.7113 - val_loss: 0.6872 - val_accuracy: 0.7781\n",
      "Epoch 96/100\n",
      "938/938 [==============================] - 1s 1ms/step - loss: 0.8633 - accuracy: 0.7110 - val_loss: 0.6775 - val_accuracy: 0.7799\n",
      "Epoch 97/100\n",
      "938/938 [==============================] - 1s 1ms/step - loss: 0.8626 - accuracy: 0.7102 - val_loss: 0.6879 - val_accuracy: 0.7777\n",
      "Epoch 98/100\n",
      "938/938 [==============================] - 1s 1ms/step - loss: 0.8646 - accuracy: 0.7090 - val_loss: 0.6970 - val_accuracy: 0.7739\n",
      "Epoch 99/100\n",
      "938/938 [==============================] - 1s 1ms/step - loss: 0.8618 - accuracy: 0.7105 - val_loss: 0.6885 - val_accuracy: 0.7763\n",
      "Epoch 100/100\n",
      "938/938 [==============================] - 1s 1ms/step - loss: 0.8608 - accuracy: 0.7127 - val_loss: 0.6801 - val_accuracy: 0.7804\n"
     ]
    }
   ],
   "source": [
    "history = model.fit(\n",
    "    X_train_flat, y_train,\n",
    "    epochs=50,\n",
    "    batch_size=64,\n",
    "    validation_data=(X_test_flat, y_test),\n",
    "    verbose=1,\n",
    "    callbacks=[early_stopping]\n",
    ")"
   ]
  },
  {
   "cell_type": "code",
   "execution_count": 39,
   "id": "20585860-2394-4d0b-b451-bec7fbec408d",
   "metadata": {},
   "outputs": [
    {
     "name": "stdout",
     "output_type": "stream",
     "text": [
      "1875/1875 [==============================] - 1s 546us/step\n",
      "313/313 [==============================] - 0s 563us/step\n"
     ]
    },
    {
     "data": {
      "image/png": "[encoded data removed]",
      "text/plain": [
       "<Figure size 720x288 with 3 Axes>"
      ]
     },
     "metadata": {},
     "output_type": "display_data"
    },
    {
     "name": "stdout",
     "output_type": "stream",
     "text": [
      "              precision    recall  f1-score   support\n",
      "\n",
      "           0       0.91      0.85      0.88       980\n",
      "           1       0.88      0.94      0.91      1135\n",
      "           2       0.86      0.70      0.77      1032\n",
      "           3       0.68      0.75      0.71      1010\n",
      "           4       0.75      0.76      0.76       982\n",
      "           5       0.74      0.63      0.68       892\n",
      "           6       0.80      0.85      0.83       958\n",
      "           7       0.81      0.81      0.81      1028\n",
      "           8       0.70      0.74      0.72       974\n",
      "           9       0.69      0.75      0.72      1009\n",
      "\n",
      "    accuracy                           0.78     10000\n",
      "   macro avg       0.78      0.78      0.78     10000\n",
      "weighted avg       0.78      0.78      0.78     10000\n",
      "\n"
     ]
    }
   ],
   "source": [
    "from sklearn.metrics import classification_report, confusion_matrix, ConfusionMatrixDisplay\n",
    "\n",
    "# Get predictions\n",
    "y_train_pred = model.predict(X_train_flat).argmax(axis=1)\n",
    "y_test_pred  = model.predict(X_test_flat).argmax(axis=1)\n",
    "\n",
    "# Create a figure with two subplots side by side\n",
    "fig, axes = plt.subplots(1, 2, figsize=(10, 4))\n",
    "\n",
    "# Left subplot: Training and Validation Loss\n",
    "axes[0].plot(history.history['loss'], label='Training Loss')\n",
    "axes[0].plot(history.history['val_loss'], label='Validation Loss')\n",
    "#axes[0].set_yscale('log')\n",
    "axes[0].set_title('Training and Validation Loss')\n",
    "axes[0].set_xlabel('Epochs')\n",
    "axes[0].set_ylabel('Loss')\n",
    "axes[0].legend()\n",
    "\n",
    "# Right subplot: Confusion Matrix (Test Data) using seaborn heatmap with vmin set to 0\n",
    "cm = confusion_matrix(y_test, y_test_pred)\n",
    "sns.heatmap(cm, annot=True, fmt='d', ax=axes[1], vmin=0, \n",
    "            annot_kws={\"size\": 12}, cmap='nipy_spectral')\n",
    "axes[1].set_title('Confusion Matrix (Test Data)')\n",
    "axes[1].set_xlabel('Predicted Label')\n",
    "axes[1].set_ylabel('True Label')\n",
    "\n",
    "plt.tight_layout()\n",
    "plt.show()\n",
    "\n",
    "# Print classification report for test data\n",
    "report = classification_report(y_test, y_test_pred)\n",
    "print(report)"
   ]
  },
  {
   "cell_type": "code",
   "execution_count": null,
   "id": "d8496b9b-cb23-4b14-8fcb-8e620f8c32df",
   "metadata": {},
   "outputs": [],
   "source": []
  }
 ],
 "metadata": {
  "kernelspec": {
   "display_name": "Python 3 (ipykernel)",
   "language": "python",
   "name": "python3"
  },
  "language_info": {
   "codemirror_mode": {
    "name": "ipython",
    "version": 3
   },
   "file_extension": ".py",
   "mimetype": "text/x-python",
   "name": "python",
   "nbconvert_exporter": "python",
   "pygments_lexer": "ipython3",
   "version": "3.9.7"
  }
 },
 "nbformat": 4,
 "nbformat_minor": 5
}
