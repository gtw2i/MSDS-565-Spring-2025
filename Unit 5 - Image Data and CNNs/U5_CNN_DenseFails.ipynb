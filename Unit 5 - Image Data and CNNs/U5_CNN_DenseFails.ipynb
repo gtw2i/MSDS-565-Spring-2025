{
 "cells": [
  {
   "cell_type": "code",
   "execution_count": 1,
   "id": "c9bcae59-8cc4-47c4-974d-23a86ec41583",
   "metadata": {},
   "outputs": [],
   "source": [
    "import numpy as np\n",
    "import pandas as pd\n",
    "import matplotlib.pyplot as plt\n",
    "import seaborn as sns\n",
    "from tqdm import tqdm\n",
    "import warnings\n",
    "warnings.filterwarnings(\"ignore\")\n",
    "\n",
    "pd.set_option('display.max_columns',100)\n",
    "pd.set_option('display.max_rows',100)\n",
    "\n",
    "plt.style.use('dark_background')"
   ]
  },
  {
   "cell_type": "markdown",
   "id": "dab099ed-ecb6-451b-aca9-cd51381b81f0",
   "metadata": {},
   "source": [
    "# sklearn digits dataset\n",
    "\n",
    "Images are 8x8 pixels."
   ]
  },
  {
   "cell_type": "markdown",
   "id": "c9b02fef-653e-4769-9544-97518940a6a9",
   "metadata": {},
   "source": [
    "## Load data"
   ]
  },
  {
   "cell_type": "code",
   "execution_count": 2,
   "id": "dd485abe-787b-4608-9454-178f3fafdc40",
   "metadata": {},
   "outputs": [
    {
     "name": "stdout",
     "output_type": "stream",
     "text": [
      "['DESCR', 'data', 'feature_names', 'frame', 'images', 'target', 'target_names']\n"
     ]
    }
   ],
   "source": [
    "from sklearn.datasets import load_digits\n",
    "\n",
    "# Load the digits dataset\n",
    "digits = load_digits()\n",
    "print( dir(digits) )"
   ]
  },
  {
   "cell_type": "code",
   "execution_count": 3,
   "id": "0d6ead31-3b59-4eeb-a7f4-ab8b5bedc4b3",
   "metadata": {},
   "outputs": [
    {
     "data": {
      "image/png": "[encoded data removed]",
      "text/plain": [
       "<Figure size 288x288 with 1 Axes>"
      ]
     },
     "metadata": {},
     "output_type": "display_data"
    }
   ],
   "source": [
    "# Pick a random index\n",
    "idx = np.random.randint(0, len(digits.images))\n",
    "\n",
    "# Display the image\n",
    "plt.figure(figsize=(4, 4))\n",
    "plt.imshow(digits.images[idx], cmap='gray')\n",
    "plt.title(f\"Label: {digits.target[idx]}\")\n",
    "plt.axis('off')\n",
    "plt.show()"
   ]
  },
  {
   "cell_type": "markdown",
   "id": "0cd91284-616f-47f7-a240-41b4ac67ddcf",
   "metadata": {},
   "source": [
    "## Create/train/analyze model"
   ]
  },
  {
   "cell_type": "code",
   "execution_count": 4,
   "id": "712e9d3b-b9e5-458a-ae39-814db4519a85",
   "metadata": {},
   "outputs": [
    {
     "name": "stdout",
     "output_type": "stream",
     "text": [
      "(1797, 64)\n"
     ]
    }
   ],
   "source": [
    "X = digits.data\n",
    "y = digits.target\n",
    "\n",
    "print(X.shape)"
   ]
  },
  {
   "cell_type": "code",
   "execution_count": 5,
   "id": "39e7f360-b55e-4b72-8c51-f6a8b2c73d81",
   "metadata": {},
   "outputs": [],
   "source": [
    "from sklearn.model_selection import train_test_split\n",
    "\n",
    "X_train, X_test, y_train, y_test = train_test_split(\n",
    "    X, y,\n",
    "    test_size=0.2,\n",
    "    stratify=y\n",
    ")"
   ]
  },
  {
   "cell_type": "code",
   "execution_count": 6,
   "id": "9fd1eb4b-9232-4e4d-8740-5ecaf1367ebe",
   "metadata": {},
   "outputs": [
    {
     "name": "stdout",
     "output_type": "stream",
     "text": [
      "Model: \"sequential\"\n",
      "_________________________________________________________________\n",
      " Layer (type)                Output Shape              Param #   \n",
      "=================================================================\n",
      " dense (Dense)               (None, 32)                2080      \n",
      "                                                                 \n",
      " batch_normalization (BatchN  (None, 32)               128       \n",
      " ormalization)                                                   \n",
      "                                                                 \n",
      " dropout (Dropout)           (None, 32)                0         \n",
      "                                                                 \n",
      " dense_1 (Dense)             (None, 16)                528       \n",
      "                                                                 \n",
      " batch_normalization_1 (Batc  (None, 16)               64        \n",
      " hNormalization)                                                 \n",
      "                                                                 \n",
      " dropout_1 (Dropout)         (None, 16)                0         \n",
      "                                                                 \n",
      " dense_2 (Dense)             (None, 8)                 136       \n",
      "                                                                 \n",
      " dense_3 (Dense)             (None, 10)                90        \n",
      "                                                                 \n",
      "=================================================================\n",
      "Total params: 3,026\n",
      "Trainable params: 2,930\n",
      "Non-trainable params: 96\n",
      "_________________________________________________________________\n"
     ]
    }
   ],
   "source": [
    "from tensorflow.keras.models import Sequential\n",
    "from tensorflow.keras.layers import *\n",
    "from tensorflow.keras.optimizers import Adam\n",
    "from tensorflow.keras.callbacks import EarlyStopping\n",
    "\n",
    "dropout_rate = 0.1\n",
    "\n",
    "n_features = X.shape[1]\n",
    "n_classes  = np.unique(y).shape[0]\n",
    "\n",
    "# Create model\n",
    "model = Sequential([\n",
    "    Input(shape=n_features),\n",
    "    \n",
    "    Dense(32, activation='relu'),\n",
    "    BatchNormalization(),\n",
    "    Dropout(dropout_rate),\n",
    "    \n",
    "    Dense(16, activation='relu'),\n",
    "    BatchNormalization(),\n",
    "    Dropout(dropout_rate),\n",
    "    \n",
    "    Dense(8, activation='relu'),\n",
    "    \n",
    "    Dense(n_classes, activation='softmax'),\n",
    "])\n",
    "\n",
    "# Define the optimizer with a custom learning rate\n",
    "optimizer = Adam(learning_rate=0.01)\n",
    "\n",
    "# Compile model\n",
    "model.compile(\n",
    "    optimizer=optimizer,\n",
    "    loss='sparse_categorical_crossentropy',\n",
    "    metrics=['accuracy']\n",
    ")\n",
    "\n",
    "# Early stopping callback\n",
    "early_stopping = EarlyStopping(\n",
    "    monitor='val_loss',  # Monitor validation loss\n",
    "    patience=25,          # Stop after 5 epochs without improvement\n",
    "    restore_best_weights=True  # Restore the best weights after stopping\n",
    ")\n",
    "# Display model summary\n",
    "model.summary()"
   ]
  },
  {
   "cell_type": "code",
   "execution_count": 7,
   "id": "52289ed4-a7ab-47f9-bcb3-15d444e19d38",
   "metadata": {},
   "outputs": [
    {
     "name": "stdout",
     "output_type": "stream",
     "text": [
      "Epoch 1/100\n",
      "23/23 [==============================] - 1s 8ms/step - loss: 1.6946 - accuracy: 0.4349 - val_loss: 1.4767 - val_accuracy: 0.5167\n",
      "Epoch 2/100\n",
      "23/23 [==============================] - 0s 2ms/step - loss: 0.7590 - accuracy: 0.7704 - val_loss: 2.5441 - val_accuracy: 0.5333\n",
      "Epoch 3/100\n",
      "23/23 [==============================] - 0s 2ms/step - loss: 0.3862 - accuracy: 0.8866 - val_loss: 1.5798 - val_accuracy: 0.6389\n",
      "Epoch 4/100\n",
      "23/23 [==============================] - 0s 2ms/step - loss: 0.2769 - accuracy: 0.9102 - val_loss: 0.9217 - val_accuracy: 0.7778\n",
      "Epoch 5/100\n",
      "23/23 [==============================] - 0s 2ms/step - loss: 0.2219 - accuracy: 0.9381 - val_loss: 0.4334 - val_accuracy: 0.8306\n",
      "Epoch 6/100\n",
      "23/23 [==============================] - 0s 2ms/step - loss: 0.2148 - accuracy: 0.9283 - val_loss: 0.3954 - val_accuracy: 0.8861\n",
      "Epoch 7/100\n",
      "23/23 [==============================] - 0s 2ms/step - loss: 0.1498 - accuracy: 0.9450 - val_loss: 0.2258 - val_accuracy: 0.9250\n",
      "Epoch 8/100\n",
      "23/23 [==============================] - 0s 2ms/step - loss: 0.1502 - accuracy: 0.9450 - val_loss: 0.2875 - val_accuracy: 0.9028\n",
      "Epoch 9/100\n",
      "23/23 [==============================] - 0s 2ms/step - loss: 0.1299 - accuracy: 0.9582 - val_loss: 0.2606 - val_accuracy: 0.9250\n",
      "Epoch 10/100\n",
      "23/23 [==============================] - 0s 2ms/step - loss: 0.1331 - accuracy: 0.9562 - val_loss: 0.1332 - val_accuracy: 0.9583\n",
      "Epoch 11/100\n",
      "23/23 [==============================] - 0s 2ms/step - loss: 0.1153 - accuracy: 0.9659 - val_loss: 0.1923 - val_accuracy: 0.9417\n",
      "Epoch 12/100\n",
      "23/23 [==============================] - 0s 2ms/step - loss: 0.1035 - accuracy: 0.9722 - val_loss: 0.2044 - val_accuracy: 0.9472\n",
      "Epoch 13/100\n",
      "23/23 [==============================] - 0s 2ms/step - loss: 0.1115 - accuracy: 0.9666 - val_loss: 0.1612 - val_accuracy: 0.9556\n",
      "Epoch 14/100\n",
      "23/23 [==============================] - 0s 2ms/step - loss: 0.1125 - accuracy: 0.9673 - val_loss: 0.1425 - val_accuracy: 0.9444\n",
      "Epoch 15/100\n",
      "23/23 [==============================] - 0s 2ms/step - loss: 0.1137 - accuracy: 0.9617 - val_loss: 0.1099 - val_accuracy: 0.9694\n",
      "Epoch 16/100\n",
      "23/23 [==============================] - 0s 2ms/step - loss: 0.0762 - accuracy: 0.9798 - val_loss: 0.1971 - val_accuracy: 0.9333\n",
      "Epoch 17/100\n",
      "23/23 [==============================] - 0s 2ms/step - loss: 0.0881 - accuracy: 0.9687 - val_loss: 0.1111 - val_accuracy: 0.9556\n",
      "Epoch 18/100\n",
      "23/23 [==============================] - 0s 2ms/step - loss: 0.0734 - accuracy: 0.9763 - val_loss: 0.1286 - val_accuracy: 0.9611\n",
      "Epoch 19/100\n",
      "23/23 [==============================] - 0s 2ms/step - loss: 0.0603 - accuracy: 0.9805 - val_loss: 0.1035 - val_accuracy: 0.9667\n",
      "Epoch 20/100\n",
      "23/23 [==============================] - 0s 2ms/step - loss: 0.0699 - accuracy: 0.9777 - val_loss: 0.1227 - val_accuracy: 0.9611\n",
      "Epoch 21/100\n",
      "23/23 [==============================] - 0s 2ms/step - loss: 0.0748 - accuracy: 0.9743 - val_loss: 0.1207 - val_accuracy: 0.9611\n",
      "Epoch 22/100\n",
      "23/23 [==============================] - 0s 2ms/step - loss: 0.0869 - accuracy: 0.9673 - val_loss: 0.1634 - val_accuracy: 0.9528\n",
      "Epoch 23/100\n",
      "23/23 [==============================] - 0s 2ms/step - loss: 0.1193 - accuracy: 0.9624 - val_loss: 0.1719 - val_accuracy: 0.9556\n",
      "Epoch 24/100\n",
      "23/23 [==============================] - 0s 2ms/step - loss: 0.1220 - accuracy: 0.9617 - val_loss: 0.2892 - val_accuracy: 0.9222\n",
      "Epoch 25/100\n",
      "23/23 [==============================] - 0s 2ms/step - loss: 0.0912 - accuracy: 0.9722 - val_loss: 0.1135 - val_accuracy: 0.9694\n",
      "Epoch 26/100\n",
      "23/23 [==============================] - 0s 2ms/step - loss: 0.0749 - accuracy: 0.9749 - val_loss: 0.1382 - val_accuracy: 0.9639\n",
      "Epoch 27/100\n",
      "23/23 [==============================] - 0s 2ms/step - loss: 0.0758 - accuracy: 0.9687 - val_loss: 0.1935 - val_accuracy: 0.9639\n",
      "Epoch 28/100\n",
      "23/23 [==============================] - 0s 2ms/step - loss: 0.0813 - accuracy: 0.9743 - val_loss: 0.2155 - val_accuracy: 0.9389\n",
      "Epoch 29/100\n",
      "23/23 [==============================] - 0s 2ms/step - loss: 0.0875 - accuracy: 0.9749 - val_loss: 0.1222 - val_accuracy: 0.9583\n",
      "Epoch 30/100\n",
      "23/23 [==============================] - 0s 2ms/step - loss: 0.0884 - accuracy: 0.9680 - val_loss: 0.2326 - val_accuracy: 0.9472\n",
      "Epoch 31/100\n",
      "23/23 [==============================] - 0s 2ms/step - loss: 0.0701 - accuracy: 0.9791 - val_loss: 0.1484 - val_accuracy: 0.9583\n",
      "Epoch 32/100\n",
      "23/23 [==============================] - 0s 2ms/step - loss: 0.0936 - accuracy: 0.9743 - val_loss: 0.1013 - val_accuracy: 0.9722\n",
      "Epoch 33/100\n",
      "23/23 [==============================] - 0s 2ms/step - loss: 0.0806 - accuracy: 0.9756 - val_loss: 0.1213 - val_accuracy: 0.9639\n",
      "Epoch 34/100\n",
      "23/23 [==============================] - 0s 2ms/step - loss: 0.0737 - accuracy: 0.9798 - val_loss: 0.1110 - val_accuracy: 0.9722\n",
      "Epoch 35/100\n",
      "23/23 [==============================] - 0s 2ms/step - loss: 0.0536 - accuracy: 0.9819 - val_loss: 0.1044 - val_accuracy: 0.9722\n",
      "Epoch 36/100\n",
      "23/23 [==============================] - 0s 2ms/step - loss: 0.0445 - accuracy: 0.9840 - val_loss: 0.1403 - val_accuracy: 0.9667\n",
      "Epoch 37/100\n",
      "23/23 [==============================] - 0s 2ms/step - loss: 0.0453 - accuracy: 0.9854 - val_loss: 0.0967 - val_accuracy: 0.9750\n",
      "Epoch 38/100\n",
      "23/23 [==============================] - 0s 2ms/step - loss: 0.0508 - accuracy: 0.9840 - val_loss: 0.0986 - val_accuracy: 0.9778\n",
      "Epoch 39/100\n",
      "23/23 [==============================] - 0s 2ms/step - loss: 0.0442 - accuracy: 0.9840 - val_loss: 0.1518 - val_accuracy: 0.9528\n",
      "Epoch 40/100\n",
      "23/23 [==============================] - 0s 2ms/step - loss: 0.0416 - accuracy: 0.9854 - val_loss: 0.1125 - val_accuracy: 0.9694\n",
      "Epoch 41/100\n",
      "23/23 [==============================] - 0s 2ms/step - loss: 0.0598 - accuracy: 0.9777 - val_loss: 0.1530 - val_accuracy: 0.9667\n",
      "Epoch 42/100\n",
      "23/23 [==============================] - 0s 2ms/step - loss: 0.0695 - accuracy: 0.9777 - val_loss: 0.0886 - val_accuracy: 0.9667\n",
      "Epoch 43/100\n",
      "23/23 [==============================] - 0s 2ms/step - loss: 0.0584 - accuracy: 0.9819 - val_loss: 0.1386 - val_accuracy: 0.9556\n",
      "Epoch 44/100\n",
      "23/23 [==============================] - 0s 2ms/step - loss: 0.0360 - accuracy: 0.9854 - val_loss: 0.1118 - val_accuracy: 0.9694\n",
      "Epoch 45/100\n",
      "23/23 [==============================] - 0s 2ms/step - loss: 0.0528 - accuracy: 0.9833 - val_loss: 0.1172 - val_accuracy: 0.9778\n",
      "Epoch 46/100\n",
      "23/23 [==============================] - 0s 2ms/step - loss: 0.0655 - accuracy: 0.9756 - val_loss: 0.0861 - val_accuracy: 0.9694\n",
      "Epoch 47/100\n",
      "23/23 [==============================] - 0s 2ms/step - loss: 0.0433 - accuracy: 0.9861 - val_loss: 0.0968 - val_accuracy: 0.9750\n",
      "Epoch 48/100\n",
      "23/23 [==============================] - 0s 2ms/step - loss: 0.0314 - accuracy: 0.9875 - val_loss: 0.0925 - val_accuracy: 0.9722\n",
      "Epoch 49/100\n",
      "23/23 [==============================] - 0s 2ms/step - loss: 0.0346 - accuracy: 0.9889 - val_loss: 0.0994 - val_accuracy: 0.9722\n",
      "Epoch 50/100\n",
      "23/23 [==============================] - 0s 2ms/step - loss: 0.0638 - accuracy: 0.9743 - val_loss: 0.1417 - val_accuracy: 0.9639\n",
      "Epoch 51/100\n",
      "23/23 [==============================] - 0s 2ms/step - loss: 0.0385 - accuracy: 0.9840 - val_loss: 0.1293 - val_accuracy: 0.9667\n",
      "Epoch 52/100\n",
      "23/23 [==============================] - 0s 2ms/step - loss: 0.0541 - accuracy: 0.9805 - val_loss: 0.1541 - val_accuracy: 0.9639\n",
      "Epoch 53/100\n",
      "23/23 [==============================] - 0s 2ms/step - loss: 0.0396 - accuracy: 0.9868 - val_loss: 0.1490 - val_accuracy: 0.9694\n",
      "Epoch 54/100\n",
      "23/23 [==============================] - 0s 2ms/step - loss: 0.0322 - accuracy: 0.9875 - val_loss: 0.1600 - val_accuracy: 0.9639\n",
      "Epoch 55/100\n",
      "23/23 [==============================] - 0s 2ms/step - loss: 0.0515 - accuracy: 0.9833 - val_loss: 0.1640 - val_accuracy: 0.9556\n",
      "Epoch 56/100\n",
      "23/23 [==============================] - 0s 2ms/step - loss: 0.0688 - accuracy: 0.9777 - val_loss: 0.1420 - val_accuracy: 0.9556\n",
      "Epoch 57/100\n",
      "23/23 [==============================] - 0s 2ms/step - loss: 0.0779 - accuracy: 0.9756 - val_loss: 0.1276 - val_accuracy: 0.9806\n",
      "Epoch 58/100\n",
      "23/23 [==============================] - 0s 2ms/step - loss: 0.0476 - accuracy: 0.9861 - val_loss: 0.1107 - val_accuracy: 0.9750\n",
      "Epoch 59/100\n",
      "23/23 [==============================] - 0s 2ms/step - loss: 0.0360 - accuracy: 0.9916 - val_loss: 0.1198 - val_accuracy: 0.9667\n",
      "Epoch 60/100\n",
      "23/23 [==============================] - 0s 2ms/step - loss: 0.0581 - accuracy: 0.9791 - val_loss: 0.1452 - val_accuracy: 0.9667\n",
      "Epoch 61/100\n",
      "23/23 [==============================] - 0s 2ms/step - loss: 0.0686 - accuracy: 0.9798 - val_loss: 0.1364 - val_accuracy: 0.9639\n",
      "Epoch 62/100\n",
      "23/23 [==============================] - 0s 2ms/step - loss: 0.0439 - accuracy: 0.9875 - val_loss: 0.1362 - val_accuracy: 0.9694\n",
      "Epoch 63/100\n",
      "23/23 [==============================] - 0s 2ms/step - loss: 0.0677 - accuracy: 0.9812 - val_loss: 0.0924 - val_accuracy: 0.9778\n",
      "Epoch 64/100\n",
      "23/23 [==============================] - 0s 2ms/step - loss: 0.0406 - accuracy: 0.9861 - val_loss: 0.0678 - val_accuracy: 0.9806\n",
      "Epoch 65/100\n",
      "23/23 [==============================] - 0s 2ms/step - loss: 0.0585 - accuracy: 0.9840 - val_loss: 0.1097 - val_accuracy: 0.9750\n",
      "Epoch 66/100\n",
      "23/23 [==============================] - 0s 2ms/step - loss: 0.0400 - accuracy: 0.9861 - val_loss: 0.1219 - val_accuracy: 0.9778\n",
      "Epoch 67/100\n",
      "23/23 [==============================] - 0s 2ms/step - loss: 0.0302 - accuracy: 0.9896 - val_loss: 0.1484 - val_accuracy: 0.9694\n",
      "Epoch 68/100\n",
      "23/23 [==============================] - 0s 2ms/step - loss: 0.0473 - accuracy: 0.9875 - val_loss: 0.1702 - val_accuracy: 0.9667\n",
      "Epoch 69/100\n",
      "23/23 [==============================] - 0s 2ms/step - loss: 0.0373 - accuracy: 0.9868 - val_loss: 0.1349 - val_accuracy: 0.9722\n",
      "Epoch 70/100\n",
      "23/23 [==============================] - 0s 2ms/step - loss: 0.0338 - accuracy: 0.9896 - val_loss: 0.1252 - val_accuracy: 0.9750\n",
      "Epoch 71/100\n",
      "23/23 [==============================] - 0s 2ms/step - loss: 0.0656 - accuracy: 0.9770 - val_loss: 0.8918 - val_accuracy: 0.8389\n",
      "Epoch 72/100\n",
      "23/23 [==============================] - 0s 2ms/step - loss: 0.0713 - accuracy: 0.9729 - val_loss: 0.1852 - val_accuracy: 0.9639\n",
      "Epoch 73/100\n",
      "23/23 [==============================] - 0s 2ms/step - loss: 0.0674 - accuracy: 0.9770 - val_loss: 0.2222 - val_accuracy: 0.9500\n",
      "Epoch 74/100\n",
      "23/23 [==============================] - 0s 2ms/step - loss: 0.0503 - accuracy: 0.9882 - val_loss: 0.1545 - val_accuracy: 0.9639\n",
      "Epoch 75/100\n",
      "23/23 [==============================] - 0s 2ms/step - loss: 0.0442 - accuracy: 0.9875 - val_loss: 0.1365 - val_accuracy: 0.9694\n",
      "Epoch 76/100\n",
      "23/23 [==============================] - 0s 2ms/step - loss: 0.0330 - accuracy: 0.9896 - val_loss: 0.1227 - val_accuracy: 0.9722\n",
      "Epoch 77/100\n",
      "23/23 [==============================] - 0s 2ms/step - loss: 0.0427 - accuracy: 0.9847 - val_loss: 0.1081 - val_accuracy: 0.9750\n",
      "Epoch 78/100\n",
      "23/23 [==============================] - 0s 2ms/step - loss: 0.0448 - accuracy: 0.9812 - val_loss: 0.1277 - val_accuracy: 0.9750\n",
      "Epoch 79/100\n",
      "23/23 [==============================] - 0s 2ms/step - loss: 0.0425 - accuracy: 0.9875 - val_loss: 0.1161 - val_accuracy: 0.9667\n",
      "Epoch 80/100\n",
      "23/23 [==============================] - 0s 2ms/step - loss: 0.0359 - accuracy: 0.9903 - val_loss: 0.1004 - val_accuracy: 0.9722\n",
      "Epoch 81/100\n",
      "23/23 [==============================] - 0s 2ms/step - loss: 0.0202 - accuracy: 0.9923 - val_loss: 0.1025 - val_accuracy: 0.9722\n",
      "Epoch 82/100\n",
      "23/23 [==============================] - 0s 2ms/step - loss: 0.0343 - accuracy: 0.9896 - val_loss: 0.1921 - val_accuracy: 0.9611\n",
      "Epoch 83/100\n",
      "23/23 [==============================] - 0s 2ms/step - loss: 0.0342 - accuracy: 0.9882 - val_loss: 0.1382 - val_accuracy: 0.9694\n",
      "Epoch 84/100\n",
      "23/23 [==============================] - 0s 2ms/step - loss: 0.0495 - accuracy: 0.9805 - val_loss: 0.1433 - val_accuracy: 0.9722\n",
      "Epoch 85/100\n",
      "23/23 [==============================] - 0s 2ms/step - loss: 0.0329 - accuracy: 0.9889 - val_loss: 0.1292 - val_accuracy: 0.9667\n",
      "Epoch 86/100\n",
      "23/23 [==============================] - 0s 2ms/step - loss: 0.0306 - accuracy: 0.9875 - val_loss: 0.1432 - val_accuracy: 0.9694\n",
      "Epoch 87/100\n",
      "23/23 [==============================] - 0s 2ms/step - loss: 0.0224 - accuracy: 0.9930 - val_loss: 0.1003 - val_accuracy: 0.9750\n",
      "Epoch 88/100\n",
      "23/23 [==============================] - 0s 2ms/step - loss: 0.0419 - accuracy: 0.9868 - val_loss: 0.0683 - val_accuracy: 0.9778\n",
      "Epoch 89/100\n",
      "23/23 [==============================] - 0s 2ms/step - loss: 0.0311 - accuracy: 0.9875 - val_loss: 0.1020 - val_accuracy: 0.9667\n"
     ]
    }
   ],
   "source": [
    "history = model.fit(\n",
    "    X_train, y_train,\n",
    "    epochs=100,\n",
    "    batch_size=64,\n",
    "    validation_data=(X_test, y_test),\n",
    "    verbose=1,\n",
    "    callbacks=[early_stopping]\n",
    ")"
   ]
  },
  {
   "cell_type": "code",
   "execution_count": 8,
   "id": "51f774c7-caa2-44ee-b6d3-fae41fe7bcb5",
   "metadata": {},
   "outputs": [
    {
     "name": "stdout",
     "output_type": "stream",
     "text": [
      "45/45 [==============================] - 0s 568us/step\n",
      "12/12 [==============================] - 0s 544us/step\n"
     ]
    },
    {
     "data": {
      "image/png": "[encoded data removed]",
      "text/plain": [
       "<Figure size 720x288 with 3 Axes>"
      ]
     },
     "metadata": {},
     "output_type": "display_data"
    },
    {
     "name": "stdout",
     "output_type": "stream",
     "text": [
      "              precision    recall  f1-score   support\n",
      "\n",
      "           0       1.00      1.00      1.00        36\n",
      "           1       0.97      0.97      0.97        37\n",
      "           2       1.00      1.00      1.00        35\n",
      "           3       1.00      0.95      0.97        37\n",
      "           4       1.00      1.00      1.00        36\n",
      "           5       0.94      0.94      0.94        36\n",
      "           6       1.00      0.97      0.99        36\n",
      "           7       1.00      1.00      1.00        36\n",
      "           8       0.94      0.97      0.96        35\n",
      "           9       0.95      1.00      0.97        36\n",
      "\n",
      "    accuracy                           0.98       360\n",
      "   macro avg       0.98      0.98      0.98       360\n",
      "weighted avg       0.98      0.98      0.98       360\n",
      "\n"
     ]
    }
   ],
   "source": [
    "from sklearn.metrics import classification_report, confusion_matrix, ConfusionMatrixDisplay\n",
    "\n",
    "# Get predictions\n",
    "y_train_pred = model.predict(X_train).argmax(axis=1)\n",
    "y_test_pred  = model.predict(X_test).argmax(axis=1)\n",
    "\n",
    "# Create a figure with two subplots side by side\n",
    "fig, axes = plt.subplots(1, 2, figsize=(10, 4))\n",
    "\n",
    "# Left subplot: Training and Validation Loss\n",
    "axes[0].plot(history.history['loss'], label='Training Loss')\n",
    "axes[0].plot(history.history['val_loss'], label='Validation Loss')\n",
    "#axes[0].set_yscale('log')\n",
    "axes[0].set_title('Training and Validation Loss')\n",
    "axes[0].set_xlabel('Epochs')\n",
    "axes[0].set_ylabel('Loss')\n",
    "axes[0].legend()\n",
    "\n",
    "# Right subplot: Confusion Matrix (Test Data) using seaborn heatmap with vmin set to 0\n",
    "cm = confusion_matrix(y_test, y_test_pred)\n",
    "sns.heatmap(cm, annot=True, fmt='d', ax=axes[1], vmin=0, \n",
    "            annot_kws={\"size\": 12}, cmap='nipy_spectral')\n",
    "axes[1].set_title('Confusion Matrix (Test Data)')\n",
    "axes[1].set_xlabel('Predicted Label')\n",
    "axes[1].set_ylabel('True Label')\n",
    "\n",
    "plt.tight_layout()\n",
    "plt.show()\n",
    "\n",
    "# Print classification report for test data\n",
    "report = classification_report(y_test, y_test_pred)\n",
    "print(report)"
   ]
  },
  {
   "cell_type": "markdown",
   "id": "221ecf40-3b58-4597-abf5-b6852e38611f",
   "metadata": {},
   "source": [
    "# Keras MNIST dataset\n",
    "\n",
    "Images are 28x28 pixels."
   ]
  },
  {
   "cell_type": "markdown",
   "id": "12656bbe-5a67-4dbd-87ea-bb43dac7edd3",
   "metadata": {},
   "source": [
    "## Load data"
   ]
  },
  {
   "cell_type": "code",
   "execution_count": 9,
   "id": "dcfba31b-e5fd-4660-8042-0957de15cbaa",
   "metadata": {},
   "outputs": [
    {
     "name": "stdout",
     "output_type": "stream",
     "text": [
      "X_train.shape: (60000, 28, 28)\n",
      "X_test.shape:  (10000, 28, 28)\n"
     ]
    }
   ],
   "source": [
    "from tensorflow.keras.datasets import mnist\n",
    "\n",
    "# Load data\n",
    "(X_train, y_train), (X_test, y_test) = mnist.load_data()\n",
    "\n",
    "# Print shapes\n",
    "print(\"X_train.shape:\", X_train.shape)\n",
    "print(\"X_test.shape: \", X_test.shape)"
   ]
  },
  {
   "cell_type": "code",
   "execution_count": 10,
   "id": "c24cc770-7d85-4aed-bb60-036c77fdb4e1",
   "metadata": {},
   "outputs": [
    {
     "data": {
      "image/png": "[encoded data removed]",
      "text/plain": [
       "<Figure size 288x288 with 1 Axes>"
      ]
     },
     "metadata": {},
     "output_type": "display_data"
    }
   ],
   "source": [
    "# Display a random image\n",
    "idx = np.random.randint(0, len(X_train))\n",
    "plt.figure(figsize=(4, 4))\n",
    "plt.imshow(X_train[idx], cmap='gray')\n",
    "plt.title(f\"Label: {y_train[idx]}\")\n",
    "plt.show()"
   ]
  },
  {
   "cell_type": "code",
   "execution_count": 11,
   "id": "3fcfc0d5-858c-4021-87c4-2da9ef016f6d",
   "metadata": {},
   "outputs": [
    {
     "data": {
      "text/plain": [
       "<matplotlib.image.AxesImage at 0x21f45bfbee0>"
      ]
     },
     "execution_count": 11,
     "metadata": {},
     "output_type": "execute_result"
    },
    {
     "data": {
      "image/png": "[encoded data removed]",
      "text/plain": [
       "<Figure size 432x288 with 1 Axes>"
      ]
     },
     "metadata": {},
     "output_type": "display_data"
    }
   ],
   "source": [
    "plt.imshow( X_train.mean(axis=0), cmap='gray' )"
   ]
  },
  {
   "cell_type": "markdown",
   "id": "2dae4629-6370-4c35-9596-dfb88a94a1f8",
   "metadata": {},
   "source": [
    "## Create/train/analyze model"
   ]
  },
  {
   "cell_type": "code",
   "execution_count": 12,
   "id": "564abcd7-e36e-4ef0-9e8e-3a651564ae77",
   "metadata": {},
   "outputs": [
    {
     "name": "stdout",
     "output_type": "stream",
     "text": [
      "X_train_flat.shape: (60000, 784)\n",
      "X_test_flat.shape:  (10000, 784)\n"
     ]
    }
   ],
   "source": [
    "# flatten images into vectors\n",
    "X_train_flat = X_train.reshape(X_train.shape[0],-1)\n",
    "X_test_flat  = X_test.reshape(X_test.shape[0],-1)\n",
    "\n",
    "print(\"X_train_flat.shape:\", X_train_flat.shape)\n",
    "print(\"X_test_flat.shape: \", X_test_flat.shape)"
   ]
  },
  {
   "cell_type": "code",
   "execution_count": 13,
   "id": "b979a224-df9b-42b6-8253-fde4ae8bc965",
   "metadata": {},
   "outputs": [
    {
     "name": "stdout",
     "output_type": "stream",
     "text": [
      "Model: \"sequential_1\"\n",
      "_________________________________________________________________\n",
      " Layer (type)                Output Shape              Param #   \n",
      "=================================================================\n",
      " dense_4 (Dense)             (None, 32)                25120     \n",
      "                                                                 \n",
      " batch_normalization_2 (Batc  (None, 32)               128       \n",
      " hNormalization)                                                 \n",
      "                                                                 \n",
      " dropout_2 (Dropout)         (None, 32)                0         \n",
      "                                                                 \n",
      " dense_5 (Dense)             (None, 16)                528       \n",
      "                                                                 \n",
      " batch_normalization_3 (Batc  (None, 16)               64        \n",
      " hNormalization)                                                 \n",
      "                                                                 \n",
      " dropout_3 (Dropout)         (None, 16)                0         \n",
      "                                                                 \n",
      " dense_6 (Dense)             (None, 8)                 136       \n",
      "                                                                 \n",
      " dense_7 (Dense)             (None, 10)                90        \n",
      "                                                                 \n",
      "=================================================================\n",
      "Total params: 26,066\n",
      "Trainable params: 25,970\n",
      "Non-trainable params: 96\n",
      "_________________________________________________________________\n"
     ]
    }
   ],
   "source": [
    "dropout_rate = 0.1\n",
    "\n",
    "n_features = X_train_flat.shape[1]\n",
    "n_classes  = np.unique(y_train).shape[0]\n",
    "\n",
    "# Create model\n",
    "model = Sequential([\n",
    "    Input(shape=n_features),\n",
    "    \n",
    "    Dense(32, activation='relu'),\n",
    "    BatchNormalization(),\n",
    "    Dropout(dropout_rate),\n",
    "    \n",
    "    Dense(16, activation='relu'),\n",
    "    BatchNormalization(),\n",
    "    Dropout(dropout_rate),\n",
    "    \n",
    "    Dense(8, activation='relu'),\n",
    "    \n",
    "    Dense(n_classes, activation='softmax'),\n",
    "])\n",
    "\n",
    "# Define the optimizer with a custom learning rate\n",
    "optimizer = Adam(learning_rate=0.01)\n",
    "\n",
    "# Compile model\n",
    "model.compile(\n",
    "    optimizer=optimizer,\n",
    "    loss='sparse_categorical_crossentropy',\n",
    "    metrics=['accuracy']\n",
    ")\n",
    "\n",
    "# Early stopping callback\n",
    "early_stopping = EarlyStopping(\n",
    "    monitor='val_loss',  # Monitor validation loss\n",
    "    patience=25,          # Stop after 5 epochs without improvement\n",
    "    restore_best_weights=True  # Restore the best weights after stopping\n",
    ")\n",
    "\n",
    "# Display model summary\n",
    "model.summary()"
   ]
  },
  {
   "cell_type": "code",
   "execution_count": 14,
   "id": "5b3a4ced-df00-4a14-a768-e1de4ff2e4ec",
   "metadata": {},
   "outputs": [
    {
     "name": "stdout",
     "output_type": "stream",
     "text": [
      "Epoch 1/50\n",
      "938/938 [==============================] - 2s 1ms/step - loss: 0.4405 - accuracy: 0.8684 - val_loss: 0.2193 - val_accuracy: 0.9350\n",
      "Epoch 2/50\n",
      "938/938 [==============================] - 1s 1ms/step - loss: 0.2806 - accuracy: 0.9180 - val_loss: 0.1759 - val_accuracy: 0.9470\n",
      "Epoch 3/50\n",
      "938/938 [==============================] - 1s 1ms/step - loss: 0.2406 - accuracy: 0.9301 - val_loss: 0.1573 - val_accuracy: 0.9522\n",
      "Epoch 4/50\n",
      "938/938 [==============================] - 1s 1ms/step - loss: 0.2248 - accuracy: 0.9344 - val_loss: 0.1470 - val_accuracy: 0.9569\n",
      "Epoch 5/50\n",
      "938/938 [==============================] - 1s 1ms/step - loss: 0.2141 - accuracy: 0.9367 - val_loss: 0.1527 - val_accuracy: 0.9561\n",
      "Epoch 6/50\n",
      "938/938 [==============================] - 1s 1ms/step - loss: 0.1988 - accuracy: 0.9417 - val_loss: 0.1416 - val_accuracy: 0.9584\n",
      "Epoch 7/50\n",
      "938/938 [==============================] - 1s 1ms/step - loss: 0.1885 - accuracy: 0.9444 - val_loss: 0.1469 - val_accuracy: 0.9584\n",
      "Epoch 8/50\n",
      "938/938 [==============================] - 1s 1ms/step - loss: 0.1825 - accuracy: 0.9460 - val_loss: 0.1377 - val_accuracy: 0.9596\n",
      "Epoch 9/50\n",
      "938/938 [==============================] - 1s 1ms/step - loss: 0.1788 - accuracy: 0.9465 - val_loss: 0.1379 - val_accuracy: 0.9580\n",
      "Epoch 10/50\n",
      "938/938 [==============================] - 1s 1ms/step - loss: 0.1658 - accuracy: 0.9503 - val_loss: 0.1413 - val_accuracy: 0.9603\n",
      "Epoch 11/50\n",
      "938/938 [==============================] - 1s 1ms/step - loss: 0.1676 - accuracy: 0.9505 - val_loss: 0.1294 - val_accuracy: 0.9620\n",
      "Epoch 12/50\n",
      "938/938 [==============================] - 1s 1ms/step - loss: 0.1652 - accuracy: 0.9507 - val_loss: 0.1431 - val_accuracy: 0.9563\n",
      "Epoch 13/50\n",
      "938/938 [==============================] - 1s 1ms/step - loss: 0.1581 - accuracy: 0.9538 - val_loss: 0.1292 - val_accuracy: 0.9632\n",
      "Epoch 14/50\n",
      "938/938 [==============================] - 1s 1ms/step - loss: 0.1576 - accuracy: 0.9541 - val_loss: 0.1325 - val_accuracy: 0.9636\n",
      "Epoch 15/50\n",
      "938/938 [==============================] - 1s 1ms/step - loss: 0.1536 - accuracy: 0.9541 - val_loss: 0.1336 - val_accuracy: 0.9610\n",
      "Epoch 16/50\n",
      "938/938 [==============================] - 1s 1ms/step - loss: 0.1486 - accuracy: 0.9546 - val_loss: 0.1313 - val_accuracy: 0.9646\n",
      "Epoch 17/50\n",
      "938/938 [==============================] - 1s 1ms/step - loss: 0.1497 - accuracy: 0.9548 - val_loss: 0.1350 - val_accuracy: 0.9613\n",
      "Epoch 18/50\n",
      "938/938 [==============================] - 1s 1ms/step - loss: 0.1491 - accuracy: 0.9552 - val_loss: 0.1292 - val_accuracy: 0.9628\n",
      "Epoch 19/50\n",
      "938/938 [==============================] - 1s 1ms/step - loss: 0.1437 - accuracy: 0.9565 - val_loss: 0.1261 - val_accuracy: 0.9643\n",
      "Epoch 20/50\n",
      "938/938 [==============================] - 1s 1ms/step - loss: 0.1418 - accuracy: 0.9571 - val_loss: 0.1238 - val_accuracy: 0.9625\n",
      "Epoch 21/50\n",
      "938/938 [==============================] - 1s 1ms/step - loss: 0.1407 - accuracy: 0.9581 - val_loss: 0.1272 - val_accuracy: 0.9640\n",
      "Epoch 22/50\n",
      "938/938 [==============================] - 1s 1ms/step - loss: 0.1383 - accuracy: 0.9583 - val_loss: 0.1395 - val_accuracy: 0.9619\n",
      "Epoch 23/50\n",
      "938/938 [==============================] - 1s 1ms/step - loss: 0.1372 - accuracy: 0.9585 - val_loss: 0.1435 - val_accuracy: 0.9607\n",
      "Epoch 24/50\n",
      "938/938 [==============================] - 1s 1ms/step - loss: 0.1345 - accuracy: 0.9585 - val_loss: 0.1246 - val_accuracy: 0.9654\n",
      "Epoch 25/50\n",
      "938/938 [==============================] - 1s 1ms/step - loss: 0.1330 - accuracy: 0.9599 - val_loss: 0.1214 - val_accuracy: 0.9658\n",
      "Epoch 26/50\n",
      "938/938 [==============================] - 1s 1ms/step - loss: 0.1295 - accuracy: 0.9602 - val_loss: 0.1286 - val_accuracy: 0.9634\n",
      "Epoch 27/50\n",
      "938/938 [==============================] - 1s 1ms/step - loss: 0.1309 - accuracy: 0.9614 - val_loss: 0.1308 - val_accuracy: 0.9648\n",
      "Epoch 28/50\n",
      "938/938 [==============================] - 1s 1ms/step - loss: 0.1292 - accuracy: 0.9613 - val_loss: 0.1321 - val_accuracy: 0.9643\n",
      "Epoch 29/50\n",
      "938/938 [==============================] - 1s 1ms/step - loss: 0.1265 - accuracy: 0.9617 - val_loss: 0.1501 - val_accuracy: 0.9598\n",
      "Epoch 30/50\n",
      "938/938 [==============================] - 1s 1ms/step - loss: 0.1306 - accuracy: 0.9602 - val_loss: 0.1222 - val_accuracy: 0.9661\n",
      "Epoch 31/50\n",
      "938/938 [==============================] - 1s 1ms/step - loss: 0.1251 - accuracy: 0.9626 - val_loss: 0.1280 - val_accuracy: 0.9642\n",
      "Epoch 32/50\n",
      "938/938 [==============================] - 1s 1ms/step - loss: 0.1265 - accuracy: 0.9610 - val_loss: 0.1293 - val_accuracy: 0.9644\n",
      "Epoch 33/50\n",
      "938/938 [==============================] - 1s 1ms/step - loss: 0.1245 - accuracy: 0.9623 - val_loss: 0.1219 - val_accuracy: 0.9653\n",
      "Epoch 34/50\n",
      "938/938 [==============================] - 1s 1ms/step - loss: 0.1267 - accuracy: 0.9615 - val_loss: 0.1195 - val_accuracy: 0.9670\n",
      "Epoch 35/50\n",
      "938/938 [==============================] - 1s 1ms/step - loss: 0.1237 - accuracy: 0.9624 - val_loss: 0.1277 - val_accuracy: 0.9653\n",
      "Epoch 36/50\n",
      "938/938 [==============================] - 1s 1ms/step - loss: 0.1190 - accuracy: 0.9639 - val_loss: 0.1235 - val_accuracy: 0.9666\n",
      "Epoch 37/50\n",
      "938/938 [==============================] - 1s 1ms/step - loss: 0.1187 - accuracy: 0.9639 - val_loss: 0.1238 - val_accuracy: 0.9665\n",
      "Epoch 38/50\n",
      "938/938 [==============================] - 1s 1ms/step - loss: 0.1193 - accuracy: 0.9636 - val_loss: 0.1349 - val_accuracy: 0.9638\n",
      "Epoch 39/50\n",
      "938/938 [==============================] - 1s 1ms/step - loss: 0.1182 - accuracy: 0.9631 - val_loss: 0.1276 - val_accuracy: 0.9647\n",
      "Epoch 40/50\n",
      "938/938 [==============================] - 1s 1ms/step - loss: 0.1169 - accuracy: 0.9643 - val_loss: 0.1183 - val_accuracy: 0.9669\n",
      "Epoch 41/50\n",
      "938/938 [==============================] - 1s 1ms/step - loss: 0.1224 - accuracy: 0.9624 - val_loss: 0.1349 - val_accuracy: 0.9652\n",
      "Epoch 42/50\n",
      "938/938 [==============================] - 1s 1ms/step - loss: 0.1171 - accuracy: 0.9638 - val_loss: 0.1279 - val_accuracy: 0.9652\n",
      "Epoch 43/50\n",
      "938/938 [==============================] - 1s 1ms/step - loss: 0.1162 - accuracy: 0.9651 - val_loss: 0.1302 - val_accuracy: 0.9647\n",
      "Epoch 44/50\n",
      "938/938 [==============================] - 1s 1ms/step - loss: 0.1174 - accuracy: 0.9643 - val_loss: 0.1321 - val_accuracy: 0.9648\n",
      "Epoch 45/50\n",
      "938/938 [==============================] - 1s 1ms/step - loss: 0.1143 - accuracy: 0.9648 - val_loss: 0.1250 - val_accuracy: 0.9666\n",
      "Epoch 46/50\n",
      "938/938 [==============================] - 1s 1ms/step - loss: 0.1153 - accuracy: 0.9650 - val_loss: 0.1317 - val_accuracy: 0.9638\n",
      "Epoch 47/50\n",
      "938/938 [==============================] - 1s 1ms/step - loss: 0.1140 - accuracy: 0.9644 - val_loss: 0.1332 - val_accuracy: 0.9641\n",
      "Epoch 48/50\n",
      "938/938 [==============================] - 1s 1ms/step - loss: 0.1160 - accuracy: 0.9646 - val_loss: 0.1244 - val_accuracy: 0.9663\n",
      "Epoch 49/50\n",
      "938/938 [==============================] - 1s 1ms/step - loss: 0.1164 - accuracy: 0.9642 - val_loss: 0.1189 - val_accuracy: 0.9640\n",
      "Epoch 50/50\n",
      "938/938 [==============================] - 1s 1ms/step - loss: 0.1121 - accuracy: 0.9653 - val_loss: 0.1293 - val_accuracy: 0.9648\n"
     ]
    }
   ],
   "source": [
    "history = model.fit(\n",
    "    X_train_flat, y_train,\n",
    "    epochs=50,\n",
    "    batch_size=64,\n",
    "    validation_data=(X_test_flat, y_test),\n",
    "    verbose=1,\n",
    "    callbacks=[early_stopping]\n",
    ")"
   ]
  },
  {
   "cell_type": "code",
   "execution_count": 15,
   "id": "7b74c430-3ea5-4423-ac01-c7331a2fcddf",
   "metadata": {},
   "outputs": [
    {
     "name": "stdout",
     "output_type": "stream",
     "text": [
      "1875/1875 [==============================] - 1s 549us/step\n",
      "313/313 [==============================] - 0s 572us/step\n"
     ]
    },
    {
     "data": {
      "image/png": "[encoded data removed]",
      "text/plain": [
       "<Figure size 720x288 with 3 Axes>"
      ]
     },
     "metadata": {},
     "output_type": "display_data"
    },
    {
     "name": "stdout",
     "output_type": "stream",
     "text": [
      "              precision    recall  f1-score   support\n",
      "\n",
      "           0       0.97      0.99      0.98       980\n",
      "           1       0.98      0.98      0.98      1135\n",
      "           2       0.96      0.97      0.96      1032\n",
      "           3       0.96      0.97      0.96      1010\n",
      "           4       0.98      0.96      0.97       982\n",
      "           5       0.98      0.93      0.95       892\n",
      "           6       0.97      0.97      0.97       958\n",
      "           7       0.95      0.97      0.96      1028\n",
      "           8       0.95      0.96      0.95       974\n",
      "           9       0.96      0.95      0.96      1009\n",
      "\n",
      "    accuracy                           0.96     10000\n",
      "   macro avg       0.96      0.96      0.96     10000\n",
      "weighted avg       0.96      0.96      0.96     10000\n",
      "\n"
     ]
    }
   ],
   "source": [
    "from sklearn.metrics import classification_report, confusion_matrix, ConfusionMatrixDisplay\n",
    "\n",
    "# Get predictions\n",
    "y_train_pred = model.predict(X_train_flat).argmax(axis=1)\n",
    "y_test_pred  = model.predict(X_test_flat).argmax(axis=1)\n",
    "\n",
    "# Create a figure with two subplots side by side\n",
    "fig, axes = plt.subplots(1, 2, figsize=(10, 4))\n",
    "\n",
    "# Left subplot: Training and Validation Loss\n",
    "axes[0].plot(history.history['loss'], label='Training Loss')\n",
    "axes[0].plot(history.history['val_loss'], label='Validation Loss')\n",
    "#axes[0].set_yscale('log')\n",
    "axes[0].set_title('Training and Validation Loss')\n",
    "axes[0].set_xlabel('Epochs')\n",
    "axes[0].set_ylabel('Loss')\n",
    "axes[0].legend()\n",
    "\n",
    "# Right subplot: Confusion Matrix (Test Data) using seaborn heatmap with vmin set to 0\n",
    "cm = confusion_matrix(y_test, y_test_pred)\n",
    "sns.heatmap(cm, annot=True, fmt='d', ax=axes[1], vmin=0, \n",
    "            annot_kws={\"size\": 12}, cmap='nipy_spectral')\n",
    "axes[1].set_title('Confusion Matrix (Test Data)')\n",
    "axes[1].set_xlabel('Predicted Label')\n",
    "axes[1].set_ylabel('True Label')\n",
    "\n",
    "plt.tight_layout()\n",
    "plt.show()\n",
    "\n",
    "# Print classification report for test data\n",
    "report = classification_report(y_test, y_test_pred)\n",
    "print(report)"
   ]
  },
  {
   "cell_type": "markdown",
   "id": "e17899a8-fdd1-4c1c-aa22-8bd43aef88e3",
   "metadata": {},
   "source": [
    "## Predict an augmented image"
   ]
  },
  {
   "cell_type": "code",
   "execution_count": 16,
   "id": "4c776d4e-44a4-4e1d-b0a4-57b66ab97d09",
   "metadata": {},
   "outputs": [
    {
     "data": {
      "image/png": "[encoded data removed]",
      "text/plain": [
       "<Figure size 576x288 with 2 Axes>"
      ]
     },
     "metadata": {},
     "output_type": "display_data"
    }
   ],
   "source": [
    "from tensorflow.keras.preprocessing.image import ImageDataGenerator\n",
    "\n",
    "# Define the image generator with augmentation options\n",
    "datagen = ImageDataGenerator(\n",
    "    rotation_range=30,      # Rotate images randomly\n",
    "    width_shift_range=0.2,  # Randomly shift the width of images\n",
    "    height_shift_range=0.2, # Randomly shift the height of images\n",
    "    zoom_range=0.2,         # Randomly zoom\n",
    "    shear_range=0.1         # Apply shear transformation\n",
    ")\n",
    "\n",
    "idx = np.random.randint(0, len(X_test))\n",
    "\n",
    "image_orig = X_test[idx]\n",
    "\n",
    "image_aug = datagen.flow(\n",
    "    image_orig[np.newaxis,:,:,np.newaxis],\n",
    "    batch_size=1,\n",
    "    shuffle=False\n",
    ").next()[0,:,:,0]\n",
    "\n",
    "# Plot original and augmented image\n",
    "plt.figure(figsize=(8, 4))\n",
    "\n",
    "plt.subplot(1, 2, 1)\n",
    "plt.imshow(image_orig, cmap='gray')\n",
    "plt.title(\"Original\")\n",
    "\n",
    "plt.subplot(1, 2, 2)\n",
    "plt.imshow(image_aug, cmap='gray')\n",
    "plt.title(\"Augmented\")\n",
    "\n",
    "plt.tight_layout()\n",
    "plt.show()"
   ]
  },
  {
   "cell_type": "code",
   "execution_count": 17,
   "id": "42fd8611-eaa8-4691-a277-52a1507d3c6e",
   "metadata": {},
   "outputs": [
    {
     "name": "stdout",
     "output_type": "stream",
     "text": [
      "1/1 [==============================] - 0s 12ms/step\n",
      "1/1 [==============================] - 0s 55ms/step\n",
      "Original image prediction:  5\n",
      "Augmented image prediction: 6\n"
     ]
    }
   ],
   "source": [
    "# Ensure image shape is (1, 28, 28, 1) and type is float32\n",
    "image_orig_input = image_orig.flatten()[np.newaxis, :]\n",
    "image_aug_input  = image_aug.flatten()[np.newaxis, :]\n",
    "\n",
    "# Predict using the model\n",
    "pred_orig = model.predict(image_orig_input)\n",
    "pred_aug = model.predict(image_aug_input)\n",
    "\n",
    "# Get predicted digit (argmax of class probabilities)\n",
    "digit_orig = np.argmax(pred_orig)\n",
    "digit_aug = np.argmax(pred_aug)\n",
    "\n",
    "print(f\"Original image prediction:  {digit_orig}\")\n",
    "print(f\"Augmented image prediction: {digit_aug}\")"
   ]
  },
  {
   "cell_type": "markdown",
   "id": "27462f8f-a5bb-45d3-af8b-4492797c85e0",
   "metadata": {},
   "source": [
    "Since only the center pixels ever have ink in them where the letters are drawn, the weights corresponding to the outer pixels don't ever get and information to train on other than 0's. This means that images which are different in scale, translation, or rotation will not be accurately predicted."
   ]
  },
  {
   "cell_type": "markdown",
   "id": "cdb8799c-b587-4f94-954b-e238e510dcfa",
   "metadata": {},
   "source": [
    "# Keras MNIST w/ augmented images"
   ]
  },
  {
   "cell_type": "markdown",
   "id": "3ecf1db9-131b-49c4-8ca8-e2d2df445a20",
   "metadata": {},
   "source": [
    "## Create augmented dataset"
   ]
  },
  {
   "cell_type": "code",
   "execution_count": 18,
   "id": "bf3ef86b-19f8-467d-95ab-4fc1b4b3ce56",
   "metadata": {},
   "outputs": [
    {
     "name": "stdout",
     "output_type": "stream",
     "text": [
      "X_train.shape: (60000, 28, 28)\n",
      "X_test.shape:  (10000, 28, 28)\n"
     ]
    }
   ],
   "source": [
    "from tensorflow.keras.datasets import mnist\n",
    "\n",
    "# Load data\n",
    "(X_train, y_train), (X_test, y_test) = mnist.load_data()\n",
    "\n",
    "# Print shapes\n",
    "print(\"X_train.shape:\", X_train.shape)\n",
    "print(\"X_test.shape: \", X_test.shape)"
   ]
  },
  {
   "cell_type": "code",
   "execution_count": 19,
   "id": "7f3a65fb-4a08-4f85-81b8-fba62e354f4e",
   "metadata": {},
   "outputs": [
    {
     "data": {
      "image/png": "[encoded data removed]",
      "text/plain": [
       "<Figure size 720x216 with 3 Axes>"
      ]
     },
     "metadata": {},
     "output_type": "display_data"
    },
    {
     "data": {
      "image/png": "[encoded data removed]",
      "text/plain": [
       "<Figure size 720x216 with 3 Axes>"
      ]
     },
     "metadata": {},
     "output_type": "display_data"
    }
   ],
   "source": [
    "from tensorflow.keras.preprocessing.image import ImageDataGenerator\n",
    "\n",
    "# Define the image generator with augmentation options\n",
    "datagen = ImageDataGenerator(\n",
    "    rotation_range=30,      # Rotate images randomly\n",
    "    width_shift_range=0.2,  # Randomly shift the width of images\n",
    "    height_shift_range=0.2, # Randomly shift the height of images\n",
    "    zoom_range=0.2,         # Randomly zoom\n",
    "    shear_range=0.1         # Apply shear transformation\n",
    ")\n",
    "\n",
    "# Plot the first 3 images\n",
    "plt.figure(figsize=(10, 3))\n",
    "for i in range(3):\n",
    "    plt.subplot(1, 3, i + 1)\n",
    "    plt.imshow(X_train[i], cmap='gray')\n",
    "    plt.title(f\"Image {i}\")\n",
    "    plt.axis('off')\n",
    "plt.tight_layout()\n",
    "plt.show()\n",
    "\n",
    "X_train = datagen.flow(\n",
    "    X_train[:,:,:,np.newaxis],\n",
    "    batch_size=X_train.shape[0],\n",
    "    shuffle=False\n",
    ").next()[:,:,:,0]\n",
    "\n",
    "# Plot the first 3 images\n",
    "plt.figure(figsize=(10, 3))\n",
    "for i in range(3):\n",
    "    plt.subplot(1, 3, i + 1)\n",
    "    plt.imshow(X_train[i], cmap='gray')\n",
    "    plt.title(f\"Image {i}\")\n",
    "    plt.axis('off')\n",
    "plt.tight_layout()\n",
    "plt.show()\n",
    "\n",
    "X_test = datagen.flow(\n",
    "    X_test[:,:,:,np.newaxis],\n",
    "    batch_size=X_test.shape[0],\n",
    "    shuffle=False\n",
    ").next()[:,:,:,0]"
   ]
  },
  {
   "cell_type": "markdown",
   "id": "01d6a00b-e1bf-4025-befb-77449b2f8d6e",
   "metadata": {},
   "source": [
    "## Create/train/analyze model"
   ]
  },
  {
   "cell_type": "code",
   "execution_count": 20,
   "id": "1317c63d-3fd2-4f34-ae73-002f2d36f030",
   "metadata": {},
   "outputs": [
    {
     "name": "stdout",
     "output_type": "stream",
     "text": [
      "X_train_flat.shape: (60000, 784)\n",
      "X_test_flat.shape:  (10000, 784)\n"
     ]
    }
   ],
   "source": [
    "# flatten images into vectors\n",
    "X_train_flat = X_train.reshape(X_train.shape[0],-1)\n",
    "X_test_flat  = X_test.reshape(X_test.shape[0],-1)\n",
    "\n",
    "print(\"X_train_flat.shape:\", X_train_flat.shape)\n",
    "print(\"X_test_flat.shape: \", X_test_flat.shape)"
   ]
  },
  {
   "cell_type": "code",
   "execution_count": 21,
   "id": "68fc2bb3-1d74-4985-9cf6-2b58f114d6da",
   "metadata": {},
   "outputs": [
    {
     "name": "stdout",
     "output_type": "stream",
     "text": [
      "Model: \"sequential_2\"\n",
      "_________________________________________________________________\n",
      " Layer (type)                Output Shape              Param #   \n",
      "=================================================================\n",
      " dense_8 (Dense)             (None, 32)                25120     \n",
      "                                                                 \n",
      " batch_normalization_4 (Batc  (None, 32)               128       \n",
      " hNormalization)                                                 \n",
      "                                                                 \n",
      " dropout_4 (Dropout)         (None, 32)                0         \n",
      "                                                                 \n",
      " dense_9 (Dense)             (None, 32)                1056      \n",
      "                                                                 \n",
      " batch_normalization_5 (Batc  (None, 32)               128       \n",
      " hNormalization)                                                 \n",
      "                                                                 \n",
      " dropout_5 (Dropout)         (None, 32)                0         \n",
      "                                                                 \n",
      " dense_10 (Dense)            (None, 16)                528       \n",
      "                                                                 \n",
      " batch_normalization_6 (Batc  (None, 16)               64        \n",
      " hNormalization)                                                 \n",
      "                                                                 \n",
      " dropout_6 (Dropout)         (None, 16)                0         \n",
      "                                                                 \n",
      " dense_11 (Dense)            (None, 8)                 136       \n",
      "                                                                 \n",
      " dense_12 (Dense)            (None, 10)                90        \n",
      "                                                                 \n",
      "=================================================================\n",
      "Total params: 27,250\n",
      "Trainable params: 27,090\n",
      "Non-trainable params: 160\n",
      "_________________________________________________________________\n"
     ]
    }
   ],
   "source": [
    "dropout_rate = 0.1\n",
    "\n",
    "n_features = X_train_flat.shape[1]\n",
    "n_classes  = np.unique(y_train).shape[0]\n",
    "\n",
    "# Create model\n",
    "model = Sequential([\n",
    "    Input(shape=n_features),\n",
    "\n",
    "    Dense(32, activation='relu'),\n",
    "    BatchNormalization(),\n",
    "    Dropout(dropout_rate),\n",
    "    \n",
    "    Dense(32, activation='relu'),\n",
    "    BatchNormalization(),\n",
    "    Dropout(dropout_rate),\n",
    "    \n",
    "    Dense(16, activation='relu'),\n",
    "    BatchNormalization(),\n",
    "    Dropout(dropout_rate),\n",
    "    \n",
    "    Dense(8, activation='relu'),\n",
    "    \n",
    "    Dense(n_classes, activation='softmax'),\n",
    "])\n",
    "\n",
    "# Define the optimizer with a custom learning rate\n",
    "optimizer = Adam(learning_rate=0.01)\n",
    "\n",
    "# Compile model\n",
    "model.compile(\n",
    "    optimizer=optimizer,\n",
    "    loss='sparse_categorical_crossentropy',\n",
    "    metrics=['accuracy']\n",
    ")\n",
    "\n",
    "# Early stopping callback\n",
    "early_stopping = EarlyStopping(\n",
    "    monitor='val_loss',  # Monitor validation loss\n",
    "    patience=10,          # Stop after 5 epochs without improvement\n",
    "    restore_best_weights=True  # Restore the best weights after stopping\n",
    ")\n",
    "\n",
    "# Display model summary\n",
    "model.summary()"
   ]
  },
  {
   "cell_type": "code",
   "execution_count": 22,
   "id": "160a1faf-d4c0-4678-8282-a6d346bb2d2a",
   "metadata": {},
   "outputs": [
    {
     "name": "stdout",
     "output_type": "stream",
     "text": [
      "Epoch 1/50\n",
      "938/938 [==============================] - 2s 1ms/step - loss: 1.6376 - accuracy: 0.4190 - val_loss: 1.2108 - val_accuracy: 0.5835\n",
      "Epoch 2/50\n",
      "938/938 [==============================] - 1s 1ms/step - loss: 1.3592 - accuracy: 0.5287 - val_loss: 1.0808 - val_accuracy: 0.6443\n",
      "Epoch 3/50\n",
      "938/938 [==============================] - 1s 1ms/step - loss: 1.2681 - accuracy: 0.5638 - val_loss: 0.9909 - val_accuracy: 0.6692\n",
      "Epoch 4/50\n",
      "938/938 [==============================] - 1s 1ms/step - loss: 1.2207 - accuracy: 0.5836 - val_loss: 0.9345 - val_accuracy: 0.6827\n",
      "Epoch 5/50\n",
      "938/938 [==============================] - 1s 1ms/step - loss: 1.1777 - accuracy: 0.5976 - val_loss: 0.8956 - val_accuracy: 0.7039\n",
      "Epoch 6/50\n",
      "938/938 [==============================] - 1s 1ms/step - loss: 1.1590 - accuracy: 0.6089 - val_loss: 0.8843 - val_accuracy: 0.7137\n",
      "Epoch 7/50\n",
      "938/938 [==============================] - 1s 1ms/step - loss: 1.1395 - accuracy: 0.6162 - val_loss: 0.8375 - val_accuracy: 0.7254\n",
      "Epoch 8/50\n",
      "938/938 [==============================] - 1s 1ms/step - loss: 1.1117 - accuracy: 0.6269 - val_loss: 0.8187 - val_accuracy: 0.7398\n",
      "Epoch 9/50\n",
      "938/938 [==============================] - 1s 1ms/step - loss: 1.0846 - accuracy: 0.6366 - val_loss: 0.7897 - val_accuracy: 0.7428\n",
      "Epoch 10/50\n",
      "938/938 [==============================] - 1s 1ms/step - loss: 1.0662 - accuracy: 0.6435 - val_loss: 0.7688 - val_accuracy: 0.7567\n",
      "Epoch 11/50\n",
      "938/938 [==============================] - 1s 1ms/step - loss: 1.0485 - accuracy: 0.6506 - val_loss: 0.7576 - val_accuracy: 0.7487\n",
      "Epoch 12/50\n",
      "938/938 [==============================] - 1s 1ms/step - loss: 1.0337 - accuracy: 0.6597 - val_loss: 0.7606 - val_accuracy: 0.7541\n",
      "Epoch 13/50\n",
      "938/938 [==============================] - 1s 1ms/step - loss: 1.0250 - accuracy: 0.6601 - val_loss: 0.7386 - val_accuracy: 0.7620\n",
      "Epoch 14/50\n",
      "938/938 [==============================] - 1s 1ms/step - loss: 1.0074 - accuracy: 0.6668 - val_loss: 0.7093 - val_accuracy: 0.7740\n",
      "Epoch 15/50\n",
      "938/938 [==============================] - 1s 1ms/step - loss: 0.9989 - accuracy: 0.6694 - val_loss: 0.7155 - val_accuracy: 0.7735\n",
      "Epoch 16/50\n",
      "938/938 [==============================] - 1s 1ms/step - loss: 0.9917 - accuracy: 0.6721 - val_loss: 0.7076 - val_accuracy: 0.7740\n",
      "Epoch 17/50\n",
      "938/938 [==============================] - 1s 1ms/step - loss: 0.9829 - accuracy: 0.6757 - val_loss: 0.6881 - val_accuracy: 0.7809\n",
      "Epoch 18/50\n",
      "938/938 [==============================] - 1s 1ms/step - loss: 0.9752 - accuracy: 0.6798 - val_loss: 0.6975 - val_accuracy: 0.7733\n",
      "Epoch 19/50\n",
      "938/938 [==============================] - 1s 1ms/step - loss: 0.9685 - accuracy: 0.6823 - val_loss: 0.6729 - val_accuracy: 0.7841\n",
      "Epoch 20/50\n",
      "938/938 [==============================] - 1s 1ms/step - loss: 0.9630 - accuracy: 0.6837 - val_loss: 0.6812 - val_accuracy: 0.7854\n",
      "Epoch 21/50\n",
      "938/938 [==============================] - 1s 1ms/step - loss: 0.9626 - accuracy: 0.6843 - val_loss: 0.6909 - val_accuracy: 0.7806\n",
      "Epoch 22/50\n",
      "938/938 [==============================] - 1s 1ms/step - loss: 0.9536 - accuracy: 0.6886 - val_loss: 0.6947 - val_accuracy: 0.7735\n",
      "Epoch 23/50\n",
      "938/938 [==============================] - 1s 1ms/step - loss: 0.9503 - accuracy: 0.6884 - val_loss: 0.6841 - val_accuracy: 0.7787\n",
      "Epoch 24/50\n",
      "938/938 [==============================] - 1s 1ms/step - loss: 0.9394 - accuracy: 0.6923 - val_loss: 0.6700 - val_accuracy: 0.7835\n",
      "Epoch 25/50\n",
      "938/938 [==============================] - 1s 1ms/step - loss: 0.9387 - accuracy: 0.6932 - val_loss: 0.6698 - val_accuracy: 0.7855\n",
      "Epoch 26/50\n",
      "938/938 [==============================] - 1s 1ms/step - loss: 0.9391 - accuracy: 0.6921 - val_loss: 0.6513 - val_accuracy: 0.7936\n",
      "Epoch 27/50\n",
      "938/938 [==============================] - 1s 1ms/step - loss: 0.9352 - accuracy: 0.6930 - val_loss: 0.6812 - val_accuracy: 0.7826\n",
      "Epoch 28/50\n",
      "938/938 [==============================] - 1s 1ms/step - loss: 0.9257 - accuracy: 0.6980 - val_loss: 0.6584 - val_accuracy: 0.7911\n",
      "Epoch 29/50\n",
      "938/938 [==============================] - 1s 1ms/step - loss: 0.9223 - accuracy: 0.6973 - val_loss: 0.6565 - val_accuracy: 0.7919\n",
      "Epoch 30/50\n",
      "938/938 [==============================] - 1s 1ms/step - loss: 0.9150 - accuracy: 0.7008 - val_loss: 0.6472 - val_accuracy: 0.7950\n",
      "Epoch 31/50\n",
      "938/938 [==============================] - 1s 1ms/step - loss: 0.9085 - accuracy: 0.7029 - val_loss: 0.6429 - val_accuracy: 0.7949\n",
      "Epoch 32/50\n",
      "938/938 [==============================] - 1s 1ms/step - loss: 0.9106 - accuracy: 0.7039 - val_loss: 0.6506 - val_accuracy: 0.7871\n",
      "Epoch 33/50\n",
      "938/938 [==============================] - 1s 1ms/step - loss: 0.9023 - accuracy: 0.7056 - val_loss: 0.6487 - val_accuracy: 0.7939\n",
      "Epoch 34/50\n",
      "938/938 [==============================] - 1s 1ms/step - loss: 0.9019 - accuracy: 0.7047 - val_loss: 0.6444 - val_accuracy: 0.7938\n",
      "Epoch 35/50\n",
      "938/938 [==============================] - 1s 1ms/step - loss: 0.9046 - accuracy: 0.7044 - val_loss: 0.6446 - val_accuracy: 0.7951\n",
      "Epoch 36/50\n",
      "938/938 [==============================] - 1s 1ms/step - loss: 0.9009 - accuracy: 0.7069 - val_loss: 0.6301 - val_accuracy: 0.8003\n",
      "Epoch 37/50\n",
      "938/938 [==============================] - 1s 1ms/step - loss: 0.8991 - accuracy: 0.7045 - val_loss: 0.6490 - val_accuracy: 0.7933\n",
      "Epoch 38/50\n",
      "938/938 [==============================] - 1s 1ms/step - loss: 0.8961 - accuracy: 0.7087 - val_loss: 0.6457 - val_accuracy: 0.7954\n",
      "Epoch 39/50\n",
      "938/938 [==============================] - 1s 1ms/step - loss: 0.8922 - accuracy: 0.7090 - val_loss: 0.6334 - val_accuracy: 0.7970\n",
      "Epoch 40/50\n",
      "938/938 [==============================] - 1s 1ms/step - loss: 0.8898 - accuracy: 0.7092 - val_loss: 0.6285 - val_accuracy: 0.8016\n",
      "Epoch 41/50\n",
      "938/938 [==============================] - 1s 1ms/step - loss: 0.8853 - accuracy: 0.7113 - val_loss: 0.6396 - val_accuracy: 0.7961\n",
      "Epoch 42/50\n",
      "938/938 [==============================] - 1s 1ms/step - loss: 0.8838 - accuracy: 0.7117 - val_loss: 0.6407 - val_accuracy: 0.7885\n",
      "Epoch 43/50\n",
      "938/938 [==============================] - 1s 2ms/step - loss: 0.8857 - accuracy: 0.7128 - val_loss: 0.6311 - val_accuracy: 0.8021\n",
      "Epoch 44/50\n",
      "938/938 [==============================] - 1s 1ms/step - loss: 0.8769 - accuracy: 0.7168 - val_loss: 0.6169 - val_accuracy: 0.8047\n",
      "Epoch 45/50\n",
      "938/938 [==============================] - 1s 1ms/step - loss: 0.8757 - accuracy: 0.7146 - val_loss: 0.6354 - val_accuracy: 0.7970\n",
      "Epoch 46/50\n",
      "938/938 [==============================] - 1s 1ms/step - loss: 0.8816 - accuracy: 0.7128 - val_loss: 0.6246 - val_accuracy: 0.7998\n",
      "Epoch 47/50\n",
      "938/938 [==============================] - 1s 1ms/step - loss: 0.8751 - accuracy: 0.7141 - val_loss: 0.6219 - val_accuracy: 0.8023\n",
      "Epoch 48/50\n",
      "938/938 [==============================] - 1s 1ms/step - loss: 0.8782 - accuracy: 0.7132 - val_loss: 0.6071 - val_accuracy: 0.8089\n",
      "Epoch 49/50\n",
      "938/938 [==============================] - 1s 1ms/step - loss: 0.8712 - accuracy: 0.7169 - val_loss: 0.6243 - val_accuracy: 0.8035\n",
      "Epoch 50/50\n",
      "938/938 [==============================] - 1s 1ms/step - loss: 0.8721 - accuracy: 0.7153 - val_loss: 0.6336 - val_accuracy: 0.8005\n"
     ]
    }
   ],
   "source": [
    "history = model.fit(\n",
    "    X_train_flat, y_train,\n",
    "    epochs=50,\n",
    "    batch_size=64,\n",
    "    validation_data=(X_test_flat, y_test),\n",
    "    verbose=1,\n",
    "    callbacks=[early_stopping]\n",
    ")"
   ]
  },
  {
   "cell_type": "code",
   "execution_count": 23,
   "id": "20585860-2394-4d0b-b451-bec7fbec408d",
   "metadata": {},
   "outputs": [
    {
     "name": "stdout",
     "output_type": "stream",
     "text": [
      "1875/1875 [==============================] - 1s 549us/step\n",
      "313/313 [==============================] - 0s 566us/step\n"
     ]
    },
    {
     "data": {
      "image/png": "[encoded data removed]",
      "text/plain": [
       "<Figure size 720x288 with 3 Axes>"
      ]
     },
     "metadata": {},
     "output_type": "display_data"
    },
    {
     "name": "stdout",
     "output_type": "stream",
     "text": [
      "              precision    recall  f1-score   support\n",
      "\n",
      "           0       0.87      0.91      0.89       980\n",
      "           1       0.91      0.94      0.92      1135\n",
      "           2       0.81      0.79      0.80      1032\n",
      "           3       0.82      0.64      0.72      1010\n",
      "           4       0.75      0.80      0.78       982\n",
      "           5       0.70      0.72      0.71       892\n",
      "           6       0.80      0.90      0.85       958\n",
      "           7       0.81      0.83      0.82      1028\n",
      "           8       0.81      0.67      0.74       974\n",
      "           9       0.71      0.77      0.74      1009\n",
      "\n",
      "    accuracy                           0.80     10000\n",
      "   macro avg       0.80      0.80      0.80     10000\n",
      "weighted avg       0.80      0.80      0.80     10000\n",
      "\n"
     ]
    }
   ],
   "source": [
    "from sklearn.metrics import classification_report, confusion_matrix, ConfusionMatrixDisplay\n",
    "\n",
    "# Get predictions\n",
    "y_train_pred = model.predict(X_train_flat).argmax(axis=1)\n",
    "y_test_pred  = model.predict(X_test_flat).argmax(axis=1)\n",
    "\n",
    "# Create a figure with two subplots side by side\n",
    "fig, axes = plt.subplots(1, 2, figsize=(10, 4))\n",
    "\n",
    "# Left subplot: Training and Validation Loss\n",
    "axes[0].plot(history.history['loss'], label='Training Loss')\n",
    "axes[0].plot(history.history['val_loss'], label='Validation Loss')\n",
    "#axes[0].set_yscale('log')\n",
    "axes[0].set_title('Training and Validation Loss')\n",
    "axes[0].set_xlabel('Epochs')\n",
    "axes[0].set_ylabel('Loss')\n",
    "axes[0].legend()\n",
    "\n",
    "# Right subplot: Confusion Matrix (Test Data) using seaborn heatmap with vmin set to 0\n",
    "cm = confusion_matrix(y_test, y_test_pred)\n",
    "sns.heatmap(cm, annot=True, fmt='d', ax=axes[1], vmin=0, \n",
    "            annot_kws={\"size\": 12}, cmap='nipy_spectral')\n",
    "axes[1].set_title('Confusion Matrix (Test Data)')\n",
    "axes[1].set_xlabel('Predicted Label')\n",
    "axes[1].set_ylabel('True Label')\n",
    "\n",
    "plt.tight_layout()\n",
    "plt.show()\n",
    "\n",
    "# Print classification report for test data\n",
    "report = classification_report(y_test, y_test_pred)\n",
    "print(report)"
   ]
  },
  {
   "cell_type": "code",
   "execution_count": null,
   "id": "d8496b9b-cb23-4b14-8fcb-8e620f8c32df",
   "metadata": {},
   "outputs": [],
   "source": []
  }
 ],
 "metadata": {
  "kernelspec": {
   "display_name": "Python 3 (ipykernel)",
   "language": "python",
   "name": "python3"
  },
  "language_info": {
   "codemirror_mode": {
    "name": "ipython",
    "version": 3
   },
   "file_extension": ".py",
   "mimetype": "text/x-python",
   "name": "python",
   "nbconvert_exporter": "python",
   "pygments_lexer": "ipython3",
   "version": "3.9.7"
  }
 },
 "nbformat": 4,
 "nbformat_minor": 5
}
